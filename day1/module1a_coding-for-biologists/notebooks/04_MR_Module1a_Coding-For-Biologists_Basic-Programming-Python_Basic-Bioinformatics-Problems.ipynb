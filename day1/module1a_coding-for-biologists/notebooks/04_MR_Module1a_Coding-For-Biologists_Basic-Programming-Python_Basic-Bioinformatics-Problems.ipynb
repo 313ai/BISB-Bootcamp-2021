{
 "cells": [
  {
   "cell_type": "markdown",
   "metadata": {},
   "source": [
    "# Programming Practice Problems in Python, Part 2\n",
    "\n",
    "**Author:** Michelle Franc Ragsac (mragsac@eng.ucsd.edu)\n",
    "\n",
    "This notebook contains some additional introductory exercises to basic concepts of programming, specifically for the Python programming language, but with a bioinformatics twist!\n",
    "\n",
    "> * Taken from the TA materials from the CMM262: Quantitative Methods in Genetics course at UCSD: https://github.com/biom262/cmm262-2021/tree/main/ta-materials/01-15-2021_python-practice\n",
    "> * Adapted from BISB Bootcamp 2020 Day 4, Module 6: Pair Programming materials: https://github.com/mragsac/BISB-Bootcamp-2020/tree/master/day4/module6_pair-programming\n",
    "> * Many of these exercises (and more!) can be found through the Rosalind \"Bioinformatics Stronghold\" resource: http://rosalind.info/problems/list-view/?location=bioinformatics-stronghold\n",
    "\n",
    "---\n",
    "\n",
    "### [Counting DNA Nucleotides](http://rosalind.info/problems/dna/)\n",
    "\n",
    "<div class=\"alert alert-block alert-success\">\n",
    "    <p><b>Exercise:</b></p>\n",
    "    <p><b><i>Given</i></b>: A DNA sequence string, <code>s</code>, with a maximum length of 1,000 nucleotides \n",
    "    <br><b><i>Return</i></b>: Four integers (separated by spaces) counting the respective number of times that the bases <code>A</code>, <code>T</code>, <code>C</code>, and <code>G</code> occur in <code>s</code></p>\n",
    "</div>"
   ]
  },
  {
   "cell_type": "code",
   "execution_count": 41,
   "metadata": {},
   "outputs": [],
   "source": [
    "import pandas as pd\n",
    "from collections import Counter, defaultdict\n",
    "import numpy as np\n",
    "import cudf\n",
    "\n",
    "str_size = int(1e8)\n",
    "dna_str = np.random.choice(list(\"ATCG\"), str_size)"
   ]
  },
  {
   "cell_type": "code",
   "execution_count": 42,
   "metadata": {},
   "outputs": [
    {
     "name": "stdout",
     "output_type": "stream",
     "text": [
      "7.42 s ± 95.2 ms per loop (mean ± std. dev. of 7 runs, 1 loop each)\n"
     ]
    }
   ],
   "source": [
    "%%timeit \n",
    "pd.Series(dna_str).value_counts()"
   ]
  },
  {
   "cell_type": "code",
   "execution_count": 43,
   "metadata": {},
   "outputs": [
    {
     "name": "stdout",
     "output_type": "stream",
     "text": [
      "19.4 s ± 438 ms per loop (mean ± std. dev. of 7 runs, 1 loop each)\n"
     ]
    }
   ],
   "source": [
    "%%timeit\n",
    "Counter(dna_str)"
   ]
  },
  {
   "cell_type": "code",
   "execution_count": 44,
   "metadata": {},
   "outputs": [
    {
     "name": "stdout",
     "output_type": "stream",
     "text": [
      "17.2 s ± 30.7 ms per loop (mean ± std. dev. of 7 runs, 1 loop each)\n"
     ]
    }
   ],
   "source": [
    "%%timeit\n",
    "d = defaultdict(int)\n",
    "for c in dna_str:\n",
    "    d[c] + 1\n",
    "d"
   ]
  },
  {
   "cell_type": "code",
   "execution_count": 45,
   "metadata": {},
   "outputs": [],
   "source": [
    "import cudf"
   ]
  },
  {
   "cell_type": "code",
   "execution_count": 46,
   "metadata": {},
   "outputs": [
    {
     "name": "stdout",
     "output_type": "stream",
     "text": [
      "5.41 s ± 61 ms per loop (mean ± std. dev. of 7 runs, 1 loop each)\n"
     ]
    }
   ],
   "source": [
    "%%timeit\n",
    "cudf.Series(dna_str).value_counts()"
   ]
  },
  {
   "cell_type": "code",
   "execution_count": 47,
   "metadata": {},
   "outputs": [],
   "source": [
    "s = cudf.Series(dna_str)"
   ]
  },
  {
   "cell_type": "code",
   "execution_count": 48,
   "metadata": {},
   "outputs": [
    {
     "name": "stdout",
     "output_type": "stream",
     "text": [
      "56.3 ms ± 1.65 ms per loop (mean ± std. dev. of 7 runs, 10 loops each)\n"
     ]
    }
   ],
   "source": [
    "%%timeit\n",
    "s.value_counts()"
   ]
  },
  {
   "cell_type": "markdown",
   "metadata": {},
   "source": [
    "---\n",
    "\n",
    "### [Compute the Hamming Distance Between Two Strings](http://rosalind.info/problems/ba1g/)\n",
    "\n",
    "We say that position $i$ in k-mers $p_1 … p_k$ and $q_1 … q_k$ is a mismatch if $p_i ≠ q_i$. For example, `CGAAT` and `CGGAC` have two mismatches. \n",
    "\n",
    "The number of mismatches between strings $p$ and $q$ is called the **Hamming Distance** between these strings and is denoted `HammingDistance(p, q)`.\n",
    "\n",
    "<div class=\"alert alert-block alert-success\">\n",
    "    <p><b>Exercise:</b></p>\n",
    "    <p><b><i>Given</i></b>: Two DNA Strings\n",
    "    <br><b><i>Return</i></b>: An integer value representing the Hamming Distance of the two DNA strings</p>\n",
    "</div>"
   ]
  },
  {
   "cell_type": "code",
   "execution_count": 49,
   "metadata": {},
   "outputs": [],
   "source": [
    "from scipy.spatial.distance import hamming"
   ]
  },
  {
   "cell_type": "code",
   "execution_count": 79,
   "metadata": {},
   "outputs": [],
   "source": [
    "str_size = int(1e7)\n",
    "s1 = np.random.choice(list(\"ATCG\"), str_size)\n",
    "s2 = np.random.choice(list(\"ATCG\"), str_size)"
   ]
  },
  {
   "cell_type": "code",
   "execution_count": 80,
   "metadata": {},
   "outputs": [
    {
     "name": "stdout",
     "output_type": "stream",
     "text": [
      "CPU times: user 3.29 s, sys: 0 ns, total: 3.29 s\n",
      "Wall time: 3.29 s\n"
     ]
    },
    {
     "data": {
      "text/plain": [
       "7501049"
      ]
     },
     "execution_count": 80,
     "metadata": {},
     "output_type": "execute_result"
    }
   ],
   "source": [
    "%%time\n",
    "sum(c1!=c2 for c1,c2 in zip(s1,s2))"
   ]
  },
  {
   "cell_type": "code",
   "execution_count": 81,
   "metadata": {},
   "outputs": [
    {
     "name": "stdout",
     "output_type": "stream",
     "text": [
      "CPU times: user 4.83 s, sys: 746 ms, total: 5.58 s\n",
      "Wall time: 5.54 s\n"
     ]
    },
    {
     "data": {
      "text/plain": [
       "7501049"
      ]
     },
     "execution_count": 81,
     "metadata": {},
     "output_type": "execute_result"
    }
   ],
   "source": [
    "%%time\n",
    "(pd.Series(list(s1)) != pd.Series(list(s2))).sum()"
   ]
  },
  {
   "cell_type": "code",
   "execution_count": 82,
   "metadata": {},
   "outputs": [
    {
     "name": "stdout",
     "output_type": "stream",
     "text": [
      "CPU times: user 3.25 s, sys: 689 ms, total: 3.94 s\n",
      "Wall time: 3.91 s\n"
     ]
    },
    {
     "data": {
      "text/plain": [
       "7501049"
      ]
     },
     "execution_count": 82,
     "metadata": {},
     "output_type": "execute_result"
    }
   ],
   "source": [
    "%%time\n",
    "(cudf.Series(list(s1)) != cudf.Series(list(s2))).sum()"
   ]
  },
  {
   "cell_type": "code",
   "execution_count": 86,
   "metadata": {},
   "outputs": [
    {
     "name": "stdout",
     "output_type": "stream",
     "text": [
      "CPU times: user 95.1 ms, sys: 3.98 ms, total: 99 ms\n",
      "Wall time: 95.9 ms\n"
     ]
    },
    {
     "data": {
      "text/plain": [
       "7501049.0"
      ]
     },
     "execution_count": 86,
     "metadata": {},
     "output_type": "execute_result"
    }
   ],
   "source": [
    "%%time\n",
    "hamming(s1,s2) * len(s1)"
   ]
  },
  {
   "cell_type": "markdown",
   "metadata": {},
   "source": [
    "---\n",
    "\n",
    "### [Complementing a Strand of DNA](http://rosalind.info/problems/revc/)\n",
    "\n",
    "In DNA strings, symbols `A` and `T` are complements of each other, as are `C` and `G`. The reverse complement of a DNA string $s$ is the string $s_c$ formed by reversing the symbols of `s`, then taking the complement of each symbol (e.g., the reverse complement of `GTCA` is `TGAC`).\n",
    "\n",
    "<div class=\"alert alert-block alert-success\">\n",
    "    <p><b>Exercise:</b></p>\n",
    "    <p><b><i>Given</i></b>: A DNA string, <code>s</code>, with a maximum length of 1,000 nucleotides\n",
    "    <br><b><i>Return</i></b>: The reverse complement of <code>s</code></p>\n",
    "</div>"
   ]
  },
  {
   "cell_type": "code",
   "execution_count": 99,
   "metadata": {},
   "outputs": [],
   "source": [
    "s1 = 'GTCA'\n",
    "#str_size = int(1e7)\n",
    "#s1 = np.random.choice(list(\"ATCG\"), str_size)"
   ]
  },
  {
   "cell_type": "code",
   "execution_count": 100,
   "metadata": {},
   "outputs": [
    {
     "name": "stdout",
     "output_type": "stream",
     "text": [
      "CPU times: user 1.75 ms, sys: 41 µs, total: 1.79 ms\n",
      "Wall time: 1.81 ms\n"
     ]
    },
    {
     "data": {
      "text/plain": [
       "'CAGT'"
      ]
     },
     "execution_count": 100,
     "metadata": {},
     "output_type": "execute_result"
    }
   ],
   "source": [
    "%%time\n",
    "comp_map = {'A': 'T', 'T': 'A', 'C':'G', 'G':'C'}\n",
    "''.join(pd.Series(list(s1)).map(comp_map).values)"
   ]
  },
  {
   "cell_type": "code",
   "execution_count": 101,
   "metadata": {},
   "outputs": [
    {
     "name": "stdout",
     "output_type": "stream",
     "text": [
      "CPU times: user 13.7 ms, sys: 3.96 ms, total: 17.7 ms\n",
      "Wall time: 17.4 ms\n"
     ]
    },
    {
     "data": {
      "text/plain": [
       "'CAGT'"
      ]
     },
     "execution_count": 101,
     "metadata": {},
     "output_type": "execute_result"
    }
   ],
   "source": [
    "%%time\n",
    "s2 = []\n",
    "for c in s1:\n",
    "    s2.append(comp_map.get(c, c))\n",
    "''.join(s2)"
   ]
  },
  {
   "cell_type": "markdown",
   "metadata": {},
   "source": [
    "---\n",
    "\n",
    "### [Find the Most Frequent \"Words\" in a String](http://rosalind.info/problems/revc/)\n",
    "\n",
    "**k-mers** are small subsequences of a string that are of length `k`. We can define the term *Pattern* as our most frequent k-mer in a string if it maximizes `Count(Text,Pattern)` among all k-mers. For example, `ACTAT` is a most frequent 5-mer in `ACAACTATGCATCACTATCGGGAACTATCCT`, and `ATA` is a most frequent 3-mer of `CGATATATCCATAG`.\n",
    "\n",
    "<div class=\"alert alert-block alert-success\">\n",
    "    <p><b>Exercise:</b></p>\n",
    "    <p><b><i>Given</i></b>: A DNA string, <code>Text</code>, and an integer, <code>k</code>\n",
    "    <br><b><i>Return</i></b>: All most frequent k-mers in <code>Text</code> in any order\n",
    "</div>"
   ]
  },
  {
   "cell_type": "code",
   "execution_count": 125,
   "metadata": {},
   "outputs": [],
   "source": [
    "#s1 = 'CGATATATCCATAG'\n",
    "str_size = int(1e5)\n",
    "s1 = np.random.choice(list(\"ATCG\"), str_size)\n",
    "s1 = ''.join(list(s1))"
   ]
  },
  {
   "cell_type": "code",
   "execution_count": 126,
   "metadata": {},
   "outputs": [
    {
     "data": {
      "text/plain": [
       "GTGTC    130\n",
       "GTACG    130\n",
       "AGGCT    129\n",
       "GCACA    127\n",
       "CACAA    127\n",
       "        ... \n",
       "CGACC     70\n",
       "GGGGC     69\n",
       "TGGTA     68\n",
       "CGGGG     64\n",
       "TATAA     62\n",
       "Length: 1024, dtype: int64"
      ]
     },
     "execution_count": 126,
     "metadata": {},
     "output_type": "execute_result"
    }
   ],
   "source": [
    "kmers_len = 5\n",
    "kmers = defaultdict(int)\n",
    "for i in range(0,len(s1)-kmers_len+1):\n",
    "    kmer = s1[i:(i+kmers_len)]\n",
    "    kmers[kmer] += 1\n",
    "\n",
    "pd.Series(kmers).sort_values(ascending=False)"
   ]
  },
  {
   "cell_type": "code",
   "execution_count": null,
   "metadata": {},
   "outputs": [],
   "source": []
  }
 ],
 "metadata": {
  "kernelspec": {
   "display_name": "Python 3 (ipykernel)",
   "language": "python",
   "name": "python3"
  },
  "language_info": {
   "codemirror_mode": {
    "name": "ipython",
    "version": 3
   },
   "file_extension": ".py",
   "mimetype": "text/x-python",
   "name": "python",
   "nbconvert_exporter": "python",
   "pygments_lexer": "ipython3",
   "version": "3.8.10"
  },
  "toc": {
   "base_numbering": 1,
   "nav_menu": {},
   "number_sections": true,
   "sideBar": true,
   "skip_h1_title": false,
   "title_cell": "Table of Contents",
   "title_sidebar": "Contents",
   "toc_cell": false,
   "toc_position": {},
   "toc_section_display": true,
   "toc_window_display": false
  }
 },
 "nbformat": 4,
 "nbformat_minor": 4
}
