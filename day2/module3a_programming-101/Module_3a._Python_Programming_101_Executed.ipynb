{
 "cells": [
  {
   "cell_type": "markdown",
   "metadata": {},
   "source": [
    "# Module 3a. Python Programming 101\n",
    "\n",
    "**Author:** Lauryn Bruce lbruce@ucsd.edu\n",
    "\n",
    "This notebook contains some additional introductory exercises to basic concepts of programming, specifically for the Python programming language. \n",
    "\n",
    "Topics included below are:\n",
    "- Data Types/Objects\n",
    "- Data Structures\n",
    "- Comparison Operators\n",
    "- Python Statements/Control Flow\n",
    "- Functions\n",
    "- User Defined Data Objects using Classes\n",
    "- Read/Write data to/from Files\n",
    "- Pandas data cleaning/manipulation\n",
    "- Pandas DateTime index\n",
    "- Testing & Debugging"
   ]
  },
  {
   "cell_type": "markdown",
   "metadata": {},
   "source": [
    "### Jupyter Commands\n",
    "Note** Windows command or Mac command if different\n",
    "- Run a cell: Shift + Enter\n",
    "- Run a cell and create a new one below: Alt + Enter or option ⌥ + Enter\n",
    "- Run selected cells: Ctrl + Enter or Command ⌘ + Enter\n",
    "- Save: Ctrl + s or Command ⌘ + s\n",
    "\n",
    "- In command mode (Esc to activate)\n",
    "    - Create a new cell above: a\n",
    "    - Create a new cell below: b\n",
    "    - Cut cell: x\n",
    "    - Copy cell: c\n",
    "    - Paste cell: v\n",
    "\n",
    "- Functions\n",
    "    - show the required inputs for a function use: Shift + tab\n",
    "    - example: my_function(  --> Shift  +tab\n",
    "\n",
    "\n",
    "Resources:<br>\n",
    "- https://www.udemy.com/course/complete-python-bootcamp\n",
    "- https://towardsdatascience.com/jypyter-notebook-shortcuts-bf0101a98330"
   ]
  },
  {
   "cell_type": "markdown",
   "metadata": {},
   "source": [
    "## Basic Python Data Types/Objects"
   ]
  },
  {
   "cell_type": "markdown",
   "metadata": {},
   "source": [
    "#### Integers: Whole Numbers"
   ]
  },
  {
   "cell_type": "code",
   "execution_count": 1,
   "metadata": {},
   "outputs": [
    {
     "name": "stdout",
     "output_type": "stream",
     "text": [
      "3\n",
      "9\n"
     ]
    }
   ],
   "source": [
    "x=3\n",
    "y=9\n",
    "print(x)\n",
    "print(y)"
   ]
  },
  {
   "cell_type": "markdown",
   "metadata": {},
   "source": [
    "#### Floats: Numbers with a Decimal point"
   ]
  },
  {
   "cell_type": "code",
   "execution_count": 2,
   "metadata": {},
   "outputs": [],
   "source": [
    "x=3.3\n",
    "y=9.1"
   ]
  },
  {
   "cell_type": "markdown",
   "metadata": {},
   "source": [
    "#### Strings: Ordered sequence of Characters"
   ]
  },
  {
   "cell_type": "code",
   "execution_count": 3,
   "metadata": {},
   "outputs": [
    {
     "name": "stdout",
     "output_type": "stream",
     "text": [
      "Hello you\n"
     ]
    }
   ],
   "source": [
    "z = 'Hello'\n",
    "zz = 'you'\n",
    "print(z + ' ' + zz)"
   ]
  },
  {
   "cell_type": "markdown",
   "metadata": {},
   "source": [
    "## Basic Data Structures"
   ]
  },
  {
   "cell_type": "markdown",
   "metadata": {},
   "source": [
    "#### Lists: mutable ordered sequence of objects"
   ]
  },
  {
   "cell_type": "code",
   "execution_count": 4,
   "metadata": {},
   "outputs": [
    {
     "name": "stdout",
     "output_type": "stream",
     "text": [
      "1\n"
     ]
    }
   ],
   "source": [
    "my_list=[1,2,\"three\",[4.0, 5]] # can contain a mixture of data types\n",
    "print(my_list[0]) # access an item using the index."
   ]
  },
  {
   "cell_type": "code",
   "execution_count": 5,
   "metadata": {},
   "outputs": [
    {
     "name": "stdout",
     "output_type": "stream",
     "text": [
      "[1, 2]\n",
      "h\n"
     ]
    }
   ],
   "source": [
    "# Slicing: can use my_list[start:stop] syntax to access a sub-list (0-bases)\n",
    "my_sub_list = my_list[:2]\n",
    "print(my_sub_list)\n",
    "my_sub_list_2 = my_list[2][1]\n",
    "print(my_sub_list_2)"
   ]
  },
  {
   "cell_type": "markdown",
   "metadata": {},
   "source": [
    "#### Dictionaries: unordered key:value pairs"
   ]
  },
  {
   "cell_type": "code",
   "execution_count": 6,
   "metadata": {},
   "outputs": [],
   "source": [
    "# Create empty dictionary\n",
    "my_dict = {}"
   ]
  },
  {
   "cell_type": "code",
   "execution_count": 7,
   "metadata": {},
   "outputs": [
    {
     "name": "stdout",
     "output_type": "stream",
     "text": [
      "{'key1': 1, 'key2': 2, 'key3': 3}\n"
     ]
    }
   ],
   "source": [
    "# Add key value pairs\n",
    "my_dict['key1'] = 1\n",
    "my_dict['key2'] = 2\n",
    "my_dict['key3'] = 3\n",
    "print(my_dict)"
   ]
  },
  {
   "cell_type": "code",
   "execution_count": 8,
   "metadata": {},
   "outputs": [
    {
     "name": "stdout",
     "output_type": "stream",
     "text": [
      "{'key4': 6, 'key5': 5}\n",
      "dict_keys(['key1', 'key2', 'key3'])\n",
      "dict_values([1, 2, 3])\n"
     ]
    }
   ],
   "source": [
    "# Create populated dictionary\n",
    "my_new_dict = {'key4': 4, 'key5': 5}\n",
    "# Change a value within a dictionary\n",
    "my_new_dict['key4'] = 6\n",
    "print(my_new_dict)\n",
    "\n",
    "# Get all keys\n",
    "print(my_dict.keys())\n",
    "# Get all values\n",
    "print(my_dict.values())"
   ]
  },
  {
   "cell_type": "markdown",
   "metadata": {},
   "source": [
    "#### Boolean: logical value indicating True or False"
   ]
  },
  {
   "cell_type": "code",
   "execution_count": 9,
   "metadata": {},
   "outputs": [
    {
     "data": {
      "text/plain": [
       "False"
      ]
     },
     "execution_count": 9,
     "metadata": {},
     "output_type": "execute_result"
    }
   ],
   "source": [
    "my_bool = True\n",
    "my_bool == False"
   ]
  },
  {
   "cell_type": "markdown",
   "metadata": {},
   "source": [
    "#### Sets: unordered collection of unique objects"
   ]
  },
  {
   "cell_type": "code",
   "execution_count": 10,
   "metadata": {},
   "outputs": [
    {
     "name": "stdout",
     "output_type": "stream",
     "text": [
      "{'c', 'b', 'a', 'd'}\n"
     ]
    }
   ],
   "source": [
    "my_set = ('a', 'b', 'c')\n",
    "\n",
    "my_list = ('a', 'b', 'c', 'd', 'd', 'b')\n",
    "print(set(my_list))"
   ]
  },
  {
   "cell_type": "markdown",
   "metadata": {},
   "source": [
    "#### Tuples: ordered immutable sequence of objects"
   ]
  },
  {
   "cell_type": "code",
   "execution_count": 11,
   "metadata": {},
   "outputs": [],
   "source": [
    "my_tup = (10, \"hello\", 200.3)"
   ]
  },
  {
   "cell_type": "markdown",
   "metadata": {},
   "source": [
    "## Comparison Operators"
   ]
  },
  {
   "cell_type": "markdown",
   "metadata": {},
   "source": [
    "Operator & Description\n",
    "<br>== if the value of two operands are equal, return True\n",
    "<br>!= if the value of the two operands are not equal, return true\n",
    "<br>\\> if the value of the left operand is greater than the value of the right, return True\n",
    "<br>\\< if the value of the left operand is less than the value of the right, return True\n",
    "<br>\\>= if the value of the left operand is greater than OR equal to the value of the right, return True\n",
    "<br>\\<= if the value of the left operand is less than OR equal to the value of the right, return True"
   ]
  },
  {
   "cell_type": "code",
   "execution_count": 12,
   "metadata": {},
   "outputs": [
    {
     "data": {
      "text/plain": [
       "True"
      ]
     },
     "execution_count": 12,
     "metadata": {},
     "output_type": "execute_result"
    }
   ],
   "source": [
    "x=3\n",
    "y=3.0\n",
    "x == y"
   ]
  },
  {
   "cell_type": "code",
   "execution_count": 13,
   "metadata": {},
   "outputs": [
    {
     "data": {
      "text/plain": [
       "False"
      ]
     },
     "execution_count": 13,
     "metadata": {},
     "output_type": "execute_result"
    }
   ],
   "source": [
    "x > y"
   ]
  },
  {
   "cell_type": "code",
   "execution_count": 14,
   "metadata": {},
   "outputs": [
    {
     "data": {
      "text/plain": [
       "True"
      ]
     },
     "execution_count": 14,
     "metadata": {},
     "output_type": "execute_result"
    }
   ],
   "source": [
    "x = 'Hello'\n",
    "y = 'Hi'\n",
    "x != y"
   ]
  },
  {
   "cell_type": "markdown",
   "metadata": {},
   "source": [
    "## Python Statments: Control flow"
   ]
  },
  {
   "cell_type": "markdown",
   "metadata": {},
   "source": [
    "#### if, elif, else"
   ]
  },
  {
   "cell_type": "code",
   "execution_count": 15,
   "metadata": {},
   "outputs": [
    {
     "name": "stdout",
     "output_type": "stream",
     "text": [
      "x is less than 5\n"
     ]
    }
   ],
   "source": [
    "x = 4\n",
    "\n",
    "if x == 5:\n",
    "    print('x equals 5')\n",
    "elif x < 5:\n",
    "    print('x is less than 5')\n",
    "else:\n",
    "    print('x is greater than 5')"
   ]
  },
  {
   "cell_type": "markdown",
   "metadata": {},
   "source": [
    "#### for loops"
   ]
  },
  {
   "cell_type": "code",
   "execution_count": 16,
   "metadata": {},
   "outputs": [
    {
     "name": "stdout",
     "output_type": "stream",
     "text": [
      "hell\n",
      "hello\n",
      "helloo\n",
      "hellooo\n",
      "helloooo\n",
      "hellooooo\n",
      "helloooooo\n",
      "hellooooooo\n",
      "helloooooooo\n",
      "hellooooooooo\n"
     ]
    }
   ],
   "source": [
    "# Loop 10 times (0 to 9 inclusive)\n",
    "for x in range(10):\n",
    "    print('hell' + (x * 'o'))"
   ]
  },
  {
   "cell_type": "code",
   "execution_count": 17,
   "metadata": {},
   "outputs": [
    {
     "name": "stdout",
     "output_type": "stream",
     "text": [
      "0 1\n",
      "1\n",
      "1 2\n",
      "even 2\n",
      "2 3\n",
      "2 3 5\n",
      "3 4\n",
      "even 4\n",
      "4 5\n",
      "4 5 9\n",
      "5 6\n",
      "even 6\n",
      "6 7\n",
      "6 7 13\n",
      "7 8\n",
      "even 8\n"
     ]
    }
   ],
   "source": [
    "my_list = [1,2,3,4,5,6,7,8]\n",
    "for i,x in enumerate(my_list):\n",
    "    print(i,x)\n",
    "    # check if numer is even\n",
    "    if x%2 == 0:\n",
    "        print('even ' + str(x))\n",
    "    elif i != 0:\n",
    "        print(i, x, x + my_list[i-1])\n",
    "    else:\n",
    "        print(x)"
   ]
  },
  {
   "cell_type": "code",
   "execution_count": 18,
   "metadata": {},
   "outputs": [
    {
     "name": "stdout",
     "output_type": "stream",
     "text": [
      "k1\n",
      "k2\n",
      "k3\n",
      "('k1', 1)\n",
      "('k2', 2)\n",
      "('k3', 3)\n",
      "k1\n",
      "1\n",
      "k2\n",
      "2\n",
      "k3\n",
      "3\n"
     ]
    }
   ],
   "source": [
    "# iterate through a dictionary\n",
    "d = {'k1': 1, 'k2': 2, 'k3': 3}\n",
    "for item in d:\n",
    "    print(item)\n",
    "\n",
    "for item in d.items():\n",
    "    print(item)\n",
    "    \n",
    "for key,value in d.items():\n",
    "    print(key)\n",
    "    print(value)"
   ]
  },
  {
   "cell_type": "code",
   "execution_count": 19,
   "metadata": {},
   "outputs": [
    {
     "name": "stdout",
     "output_type": "stream",
     "text": [
      "S\n",
      "m\n",
      "S\n"
     ]
    }
   ],
   "source": [
    "# More flow control\n",
    "x = [1,2,3]\n",
    "\n",
    "for item in x:\n",
    "    # Do nothing at all\n",
    "    pass\n",
    "\n",
    "my_string = 'Sam'\n",
    "for letter in my_string:\n",
    "    if letter == 'a':\n",
    "        # Goes to the top of the closest enclosing loop\n",
    "        continue\n",
    "    print(letter)\n",
    "    \n",
    "for letter in my_string:\n",
    "    if letter == 'a':\n",
    "        #  breaks out of the closest enclosing loop\n",
    "        break\n",
    "    print(letter)"
   ]
  },
  {
   "cell_type": "markdown",
   "metadata": {},
   "source": [
    "#### while loop"
   ]
  },
  {
   "cell_type": "code",
   "execution_count": 20,
   "metadata": {},
   "outputs": [
    {
     "name": "stdout",
     "output_type": "stream",
     "text": [
      "x = 10\n",
      "x = 9\n",
      "x = 8\n",
      "x = 7\n",
      "x = 6\n",
      "x = 5\n",
      "x is less than 5\n",
      "x = 4\n",
      "x is less than 5\n",
      "x = 3\n",
      "x is less than 5\n",
      "x = 2\n",
      "x is less than 5\n"
     ]
    }
   ],
   "source": [
    "# Be careful with while loop, infinite loops may break your kernal or worse you computer!\n",
    "\n",
    "x = 10\n",
    "while x != 1:\n",
    "    print('x = ' + str(x))\n",
    "    x -= 1\n",
    "    \n",
    "    if x < 5:\n",
    "        print('x is less than 5')"
   ]
  },
  {
   "cell_type": "code",
   "execution_count": 21,
   "metadata": {},
   "outputs": [
    {
     "name": "stdout",
     "output_type": "stream",
     "text": [
      "0\n",
      "1\n"
     ]
    }
   ],
   "source": [
    "x = 0\n",
    "\n",
    "while x < 5:\n",
    "    if x == 2:\n",
    "        break \n",
    "        \n",
    "    print(x)\n",
    "    x += 1"
   ]
  },
  {
   "cell_type": "markdown",
   "metadata": {},
   "source": [
    "#### Other useful operators"
   ]
  },
  {
   "cell_type": "code",
   "execution_count": 22,
   "metadata": {},
   "outputs": [
    {
     "name": "stdout",
     "output_type": "stream",
     "text": [
      "0\n",
      "1\n",
      "2\n",
      "3\n",
      "4\n",
      "5\n",
      "6\n",
      "7\n",
      "8\n",
      "9\n",
      "3\n",
      "4\n",
      "5\n",
      "6\n",
      "7\n",
      "8\n",
      "9\n",
      "3\n",
      "5\n",
      "7\n",
      "9\n"
     ]
    }
   ],
   "source": [
    "# Range operator\n",
    "# Print numbers from 0 to 9 (not inclusive)\n",
    "for num in range(10):\n",
    "    print(num)\n",
    "\n",
    "# Print numbers from 3 to 9 (not inclusive)  \n",
    "for num in range(3,10):\n",
    "    print(num)\n",
    "\n",
    "# Print every other number from 3 to 9 (not inclusive)  \n",
    "for num in range(3,10,2):\n",
    "    print(num)"
   ]
  },
  {
   "cell_type": "code",
   "execution_count": 23,
   "metadata": {},
   "outputs": [
    {
     "name": "stdout",
     "output_type": "stream",
     "text": [
      "At index 0 the letter is a\n",
      "At index 1 the letter is b\n",
      "At index 2 the letter is c\n",
      "At index 3 the letter is d\n",
      "At index 4 the letter is e\n"
     ]
    }
   ],
   "source": [
    "# Enumerate Function\n",
    "for index_count, letter in enumerate('abcde'):\n",
    "    print('At index {} the letter is {}'.format(index_count, letter))"
   ]
  },
  {
   "cell_type": "code",
   "execution_count": 24,
   "metadata": {},
   "outputs": [
    {
     "name": "stdout",
     "output_type": "stream",
     "text": [
      "[(1, 'a', 100), (2, 'b', 200)]\n"
     ]
    }
   ],
   "source": [
    "# Zip function\n",
    "my_list_1 = [1,2,3]\n",
    "my_list_2 = ['a', 'b', 'c']\n",
    "my_list_3 = [100, 200]\n",
    "my_zipped_list = list(zip(my_list_1, my_list_2, my_list_3))\n",
    "print(my_zipped_list)"
   ]
  },
  {
   "cell_type": "code",
   "execution_count": 25,
   "metadata": {},
   "outputs": [
    {
     "data": {
      "text/plain": [
       "False"
      ]
     },
     "execution_count": 25,
     "metadata": {},
     "output_type": "execute_result"
    }
   ],
   "source": [
    "# in function to check if object is in a list, dictionary, string, etc\n",
    "'x' in [1,2,3]\n",
    "'x' in ['x', 'y', 'z']\n",
    "d = {'mykey':345}\n",
    "'mykey' in d\n",
    "345 in d.keys()"
   ]
  },
  {
   "cell_type": "code",
   "execution_count": 26,
   "metadata": {},
   "outputs": [
    {
     "data": {
      "text/plain": [
       "4"
      ]
     },
     "execution_count": 26,
     "metadata": {},
     "output_type": "execute_result"
    }
   ],
   "source": [
    "# Min/Max\n",
    "min([1,2,3])\n",
    "min([4,5,6])"
   ]
  },
  {
   "cell_type": "code",
   "execution_count": 27,
   "metadata": {},
   "outputs": [
    {
     "name": "stdout",
     "output_type": "stream",
     "text": [
      "None\n",
      "92\n"
     ]
    }
   ],
   "source": [
    "# Random built in functions\n",
    "# Need to import from a library\n",
    "\n",
    "from random import shuffle\n",
    "# shuffle does not return anything, only shuffles in place\n",
    "my_list = [3,4,5,6,7,8,9]\n",
    "print(shuffle(my_list))\n",
    "\n",
    "from random import randint\n",
    "# randomly pull integer in range\n",
    "my_random_number = randint(50,100)\n",
    "print(my_random_number)"
   ]
  },
  {
   "cell_type": "code",
   "execution_count": 28,
   "metadata": {},
   "outputs": [
    {
     "name": "stdout",
     "output_type": "stream",
     "text": [
      "Enter a number here: 10\n"
     ]
    }
   ],
   "source": [
    "# Accept user input\n",
    "my_input_number = input('Enter a number here: ')"
   ]
  },
  {
   "cell_type": "code",
   "execution_count": 29,
   "metadata": {},
   "outputs": [
    {
     "name": "stdout",
     "output_type": "stream",
     "text": [
      "10 <class 'str'>\n"
     ]
    }
   ],
   "source": [
    "# Be careful, always turns input into a string!\n",
    "print(my_input_number, type(my_input_number))"
   ]
  },
  {
   "cell_type": "markdown",
   "metadata": {},
   "source": [
    "## Functions"
   ]
  },
  {
   "cell_type": "code",
   "execution_count": 30,
   "metadata": {},
   "outputs": [
    {
     "data": {
      "text/plain": [
       "20"
      ]
     },
     "execution_count": 30,
     "metadata": {},
     "output_type": "execute_result"
    }
   ],
   "source": [
    "# Basic Function\n",
    "def sum_numbers(num1, num2):\n",
    "    return num1+num2\n",
    "\n",
    "sum_numbers(19,1)"
   ]
  },
  {
   "cell_type": "code",
   "execution_count": 31,
   "metadata": {},
   "outputs": [
    {
     "data": {
      "text/plain": [
       "False"
      ]
     },
     "execution_count": 31,
     "metadata": {},
     "output_type": "execute_result"
    }
   ],
   "source": [
    "def check_even_list(num_list):\n",
    "    \"\"\"\n",
    "    Doc String: Check to see if any number in a list is even\n",
    "    Input: list of numbers\n",
    "    Return: If any number is even, return True, otherwise False\n",
    "    \"\"\"\n",
    "    \n",
    "    for num in num_list:\n",
    "        if num % 2 == 0:\n",
    "            return True\n",
    "        else:\n",
    "            pass\n",
    "        \n",
    "        return False\n",
    "        \n",
    "check_even_list([1,4,7])"
   ]
  },
  {
   "cell_type": "code",
   "execution_count": 32,
   "metadata": {},
   "outputs": [
    {
     "name": "stdout",
     "output_type": "stream",
     "text": [
      "[1, 4, 9, 16, 25, 36]\n",
      "[2, 4, 6]\n"
     ]
    },
    {
     "data": {
      "text/plain": [
       "[1, 4, 9, 16, 25, 36]"
      ]
     },
     "metadata": {},
     "output_type": "display_data"
    },
    {
     "data": {
      "text/plain": [
       "['ydnA', 'e-llaW', 'ylluS']"
      ]
     },
     "execution_count": 32,
     "metadata": {},
     "output_type": "execute_result"
    }
   ],
   "source": [
    "# Special functions\n",
    "\n",
    "def square(num):\n",
    "    return num**2\n",
    "\n",
    "def check_even(num):\n",
    "    return num % 2 == 0\n",
    "\n",
    "my_nums = [1, 2, 3, 4, 5, 6]\n",
    "\n",
    "## Map: executes a function on a list of arguments\n",
    "squared_list = list(map(square, my_nums))\n",
    "print(squared_list)\n",
    "\n",
    "## Filter: filter based on a boolean function's return\n",
    "even_nums = list(filter(check_even, my_nums))\n",
    "print(even_nums)\n",
    "\n",
    "## Lambda / Anonymous function: shorted version of a simple function,\n",
    "## generally one time use\n",
    "display(list(map(lambda num: num**2, my_nums)))\n",
    "\n",
    "## Another lambda function strings\n",
    "## reverse names\n",
    "name_list = ['Andy', 'Wall-e', 'Sully']\n",
    "list(map(lambda x:x[::-1], name_list))"
   ]
  },
  {
   "cell_type": "markdown",
   "metadata": {},
   "source": [
    "## User Defined Objects via Classes\n",
    "### Glimpse of Object Oriented Programing"
   ]
  },
  {
   "cell_type": "code",
   "execution_count": 33,
   "metadata": {},
   "outputs": [],
   "source": [
    "# classes follow camel casing (new words are capitalized)\n",
    "class Patient():\n",
    "    \n",
    "    # Class Object Attribute: same for any instance of a class\n",
    "    genus = 'Homo'\n",
    "    \n",
    "    # connect key word 'self' to an instance of the class\n",
    "    # define other user defined attributes\n",
    "    def __init__(self, age, gender, birthdate, note=None):\n",
    "        self.age = age\n",
    "        self.gender = gender\n",
    "        self.birthdate = birthdate\n",
    "        \n",
    "    def add_note(self, string):\n",
    "        self.note = string\n",
    "    \n",
    "    # Methods: operations/actions that use the self attributes\n",
    "    \n",
    "    # The __repr__ function defines behavior when \"print\" is called on this object\n",
    "    def __repr__(self):\n",
    "        return ':'.join([str(self.age), self.gender, self.birthdate]) + '\\n' + self.note\n",
    "    \n",
    "    def legal(self):\n",
    "        if self.age >= 21:\n",
    "            return True\n",
    "        else:\n",
    "            return False"
   ]
  },
  {
   "cell_type": "code",
   "execution_count": 34,
   "metadata": {},
   "outputs": [
    {
     "name": "stdout",
     "output_type": "stream",
     "text": [
      "Homo\n",
      "20:non-binary:2000-09-16\n",
      "This patient is a student\n",
      "False\n"
     ]
    }
   ],
   "source": [
    "my_patient = Patient(20, 'non-binary', '2000-09-16')\n",
    "my_patient.add_note('This patient is a student')\n",
    "\n",
    "print(my_patient.genus)\n",
    "print(my_patient)\n",
    "print(my_patient.legal())"
   ]
  },
  {
   "cell_type": "markdown",
   "metadata": {},
   "source": [
    "### Editing primitives vs objects"
   ]
  },
  {
   "cell_type": "code",
   "execution_count": 35,
   "metadata": {},
   "outputs": [
    {
     "name": "stdout",
     "output_type": "stream",
     "text": [
      "13 4\n",
      "3 4\n",
      "(13,4)\n",
      "(13,4)\n"
     ]
    }
   ],
   "source": [
    "# Primitive points\n",
    "x1,y1 = 3,4 \t# create a point\n",
    "x2,y2 = x1,y1 \t# create another point at the same place\n",
    "x1 = 13 \t\t# move point 1\n",
    "print(x1,y1) \t# 13 4\n",
    "print(x2,y2) \t# 3 4\n",
    "\n",
    "# Object points\n",
    "class Point:\n",
    "    def __init__(self,x,y):\n",
    "        self.x=x\n",
    "        self.y=y\n",
    "    def __repr__(self):\n",
    "        return '('+str(self.x)+','+str(self.y)+')'\n",
    "    \n",
    "pt1 = Point(3,4)# create a point\n",
    "pt2 = pt1 \t\t# create(?) another point at the same place\n",
    "pt2.x = 13 \t\t# move pt2\n",
    "print(pt1) \t\t# (13,4)\n",
    "print(pt2) \t\t# (13,4)"
   ]
  },
  {
   "cell_type": "markdown",
   "metadata": {},
   "source": [
    "## Math Functions\n",
    "For full list see: https://docs.python.org/3/library/math.html"
   ]
  },
  {
   "cell_type": "code",
   "execution_count": 36,
   "metadata": {},
   "outputs": [],
   "source": [
    "import math"
   ]
  },
  {
   "cell_type": "code",
   "execution_count": 37,
   "metadata": {},
   "outputs": [
    {
     "data": {
      "text/plain": [
       "3"
      ]
     },
     "metadata": {},
     "output_type": "display_data"
    },
    {
     "data": {
      "text/plain": [
       "4"
      ]
     },
     "metadata": {},
     "output_type": "display_data"
    },
    {
     "data": {
      "text/plain": [
       "-1.03"
      ]
     },
     "metadata": {},
     "output_type": "display_data"
    },
    {
     "data": {
      "text/plain": [
       "40.854"
      ]
     },
     "metadata": {},
     "output_type": "display_data"
    },
    {
     "name": "stdout",
     "output_type": "stream",
     "text": [
      "Natural Log:  1.311\n",
      "Log base 10:  0.569\n"
     ]
    },
    {
     "data": {
      "text/plain": [
       "3.141592653589793"
      ]
     },
     "metadata": {},
     "output_type": "display_data"
    },
    {
     "data": {
      "text/plain": [
       "2.718281828459045"
      ]
     },
     "metadata": {},
     "output_type": "display_data"
    },
    {
     "data": {
      "text/plain": [
       "nan"
      ]
     },
     "metadata": {},
     "output_type": "display_data"
    },
    {
     "data": {
      "text/plain": [
       "inf"
      ]
     },
     "metadata": {},
     "output_type": "display_data"
    }
   ],
   "source": [
    "x = 3.71\n",
    "y = 4.74\n",
    "\n",
    "# Round down\n",
    "display(math.floor(x))\n",
    "\n",
    "# Round up\n",
    "display(math.ceil(x))\n",
    "\n",
    "# Remainder x/y\n",
    "display(round(math.remainder(x,y), 3))\n",
    "\n",
    "# Exponential: return e raised to the power of x\n",
    "display(round(math.exp(x),3))\n",
    "\n",
    "# Logrithm (default log base e, can provide base which calculates as log(x)/ log(base))\n",
    "print('Natural Log: ', round(math.log(x),3))\n",
    "print('Log base 10: ', round(math.log(x, 10),3))\n",
    "\n",
    "# Constants\n",
    "display(math.pi, math.e, math.nan, math.inf)"
   ]
  },
  {
   "cell_type": "markdown",
   "metadata": {},
   "source": [
    "### Reading data from input file and Writing to output file"
   ]
  },
  {
   "cell_type": "code",
   "execution_count": 39,
   "metadata": {},
   "outputs": [
    {
     "name": "stdout",
     "output_type": "stream",
     "text": [
      "/Users/laurynbruce/Documents/Lauryn_Bruce/UCSD/classes/2021_Summer/bootcamp_files/Module_3a_Programming_101/notebook\n"
     ]
    }
   ],
   "source": [
    "%%bash\n",
    "# Determine where you are \n",
    "pwd"
   ]
  },
  {
   "cell_type": "code",
   "execution_count": 40,
   "metadata": {},
   "outputs": [],
   "source": [
    "def total_function(numbers_list):\n",
    "    return(sum(numbers_list))"
   ]
  },
  {
   "cell_type": "code",
   "execution_count": 42,
   "metadata": {},
   "outputs": [],
   "source": [
    "### Read one line at a time\n",
    "# You know there are only two numbers\n",
    "\n",
    "import os\n",
    "\n",
    "# Read in a file with two lines and output \n",
    "input_file = 'inputs/known_length_data_input.txt'\n",
    "\n",
    "with open(input_file,'r') as f:\n",
    "\n",
    "    first = f.readline().rstrip()\n",
    "\n",
    "    second = f.readline().rstrip()\n",
    "    \n",
    "    numbers = [int(first), int(second)]\n",
    "\n",
    "    # Create output folder if it does not exist\n",
    "    output_folder = 'outputs/'\n",
    "    if not os.path.exists(output_folder):\n",
    "        os.makedirs(output_folder)\n",
    "    \n",
    "    # Create output file\n",
    "    output_file = open(os.path.join(output_folder,\"sum_known.txt\"),'w')\n",
    "    \n",
    "    # Call function and write to a file\n",
    "    output_file.write(str(total_function(numbers)))\n",
    "    output_file.close()"
   ]
  },
  {
   "cell_type": "code",
   "execution_count": 43,
   "metadata": {},
   "outputs": [],
   "source": [
    "### Read all lines and store\n",
    "# You do not know how many numbers you have\n",
    "\n",
    "import os\n",
    "\n",
    "# Read in a file with two lines and output \n",
    "input_file = 'inputs/unknown_length_data_input.txt'\n",
    "\n",
    "with open(input_file,'r') as f:\n",
    "    \n",
    "    numbers = []\n",
    "    for lines in f:\n",
    "        numbers.append(int(lines.rstrip()))\n",
    "\n",
    "    # Create output folder if it does not exist\n",
    "    output_folder = 'outputs/'\n",
    "    if not os.path.exists(output_folder):\n",
    "        os.makedirs(output_folder)\n",
    "    \n",
    "    # Create output file\n",
    "    output_file = open(os.path.join(output_folder,\"sum_unknown.txt\"),'w')\n",
    "    \n",
    "    # Call function and write to a file\n",
    "    output_file.write(str(total_function(numbers)))\n",
    "    output_file.close()"
   ]
  },
  {
   "cell_type": "markdown",
   "metadata": {},
   "source": [
    "# Pandas: Software for Data Manipulation and analysis\n",
    "\n",
    "https://www.datacamp.com/community/tutorials/pandas-tutorial-dataframe-python"
   ]
  },
  {
   "cell_type": "code",
   "execution_count": 44,
   "metadata": {},
   "outputs": [],
   "source": [
    "# Import pandas and numpy libraries\n",
    "import pandas as pd\n",
    "import numpy as np\n",
    "\n",
    "import warnings\n",
    "warnings.filterwarnings('ignore')"
   ]
  },
  {
   "cell_type": "markdown",
   "metadata": {},
   "source": [
    "### Create a pandas dataframe from a dictionary"
   ]
  },
  {
   "cell_type": "code",
   "execution_count": 45,
   "metadata": {},
   "outputs": [
    {
     "data": {
      "text/html": [
       "<div>\n",
       "<style scoped>\n",
       "    .dataframe tbody tr th:only-of-type {\n",
       "        vertical-align: middle;\n",
       "    }\n",
       "\n",
       "    .dataframe tbody tr th {\n",
       "        vertical-align: top;\n",
       "    }\n",
       "\n",
       "    .dataframe thead th {\n",
       "        text-align: right;\n",
       "    }\n",
       "</style>\n",
       "<table border=\"1\" class=\"dataframe\">\n",
       "  <thead>\n",
       "    <tr style=\"text-align: right;\">\n",
       "      <th></th>\n",
       "      <th>flowers</th>\n",
       "      <th>colors</th>\n",
       "      <th>blooming_season</th>\n",
       "    </tr>\n",
       "  </thead>\n",
       "  <tbody>\n",
       "    <tr>\n",
       "      <th>0</th>\n",
       "      <td>rose</td>\n",
       "      <td>red</td>\n",
       "      <td>spring</td>\n",
       "    </tr>\n",
       "    <tr>\n",
       "      <th>1</th>\n",
       "      <td>daisy</td>\n",
       "      <td>white</td>\n",
       "      <td>spring</td>\n",
       "    </tr>\n",
       "    <tr>\n",
       "      <th>2</th>\n",
       "      <td>sunflower</td>\n",
       "      <td>yellow</td>\n",
       "      <td>summer</td>\n",
       "    </tr>\n",
       "  </tbody>\n",
       "</table>\n",
       "</div>"
      ],
      "text/plain": [
       "     flowers  colors blooming_season\n",
       "0       rose     red          spring\n",
       "1      daisy   white          spring\n",
       "2  sunflower  yellow          summer"
      ]
     },
     "execution_count": 45,
     "metadata": {},
     "output_type": "execute_result"
    }
   ],
   "source": [
    "my_flower_dict = {'flowers': ['rose', 'daisy', 'sunflower'],\n",
    "                  'colors': ['red', 'white', 'yellow'],\n",
    "                  'blooming_season': ['spring', 'spring', 'summer']}\n",
    "flower_df = pd.DataFrame(my_flower_dict)\n",
    "\n",
    "flower_df"
   ]
  },
  {
   "cell_type": "code",
   "execution_count": 46,
   "metadata": {},
   "outputs": [
    {
     "data": {
      "text/plain": [
       "pandas.core.series.Series"
      ]
     },
     "metadata": {},
     "output_type": "display_data"
    },
    {
     "data": {
      "text/plain": [
       "0       red\n",
       "1     white\n",
       "2    yellow\n",
       "Name: colors, dtype: object"
      ]
     },
     "metadata": {},
     "output_type": "display_data"
    },
    {
     "data": {
      "text/plain": [
       "pandas.core.frame.DataFrame"
      ]
     },
     "metadata": {},
     "output_type": "display_data"
    },
    {
     "data": {
      "text/html": [
       "<div>\n",
       "<style scoped>\n",
       "    .dataframe tbody tr th:only-of-type {\n",
       "        vertical-align: middle;\n",
       "    }\n",
       "\n",
       "    .dataframe tbody tr th {\n",
       "        vertical-align: top;\n",
       "    }\n",
       "\n",
       "    .dataframe thead th {\n",
       "        text-align: right;\n",
       "    }\n",
       "</style>\n",
       "<table border=\"1\" class=\"dataframe\">\n",
       "  <thead>\n",
       "    <tr style=\"text-align: right;\">\n",
       "      <th></th>\n",
       "      <th>colors</th>\n",
       "    </tr>\n",
       "  </thead>\n",
       "  <tbody>\n",
       "    <tr>\n",
       "      <th>0</th>\n",
       "      <td>red</td>\n",
       "    </tr>\n",
       "    <tr>\n",
       "      <th>1</th>\n",
       "      <td>white</td>\n",
       "    </tr>\n",
       "    <tr>\n",
       "      <th>2</th>\n",
       "      <td>yellow</td>\n",
       "    </tr>\n",
       "  </tbody>\n",
       "</table>\n",
       "</div>"
      ],
      "text/plain": [
       "   colors\n",
       "0     red\n",
       "1   white\n",
       "2  yellow"
      ]
     },
     "execution_count": 46,
     "metadata": {},
     "output_type": "execute_result"
    }
   ],
   "source": [
    "# Pandas Series: like a column in a table, one-dimensional array\n",
    "flower_colors = flower_df['colors']\n",
    "display(type(flower_colors))\n",
    "display(flower_colors)\n",
    "\n",
    "# Convert back to dataframe\n",
    "flower_colors_df = pd.Series(flower_colors).to_frame()\n",
    "display(type(flower_colors_df))\n",
    "flower_colors_df"
   ]
  },
  {
   "cell_type": "code",
   "execution_count": 47,
   "metadata": {},
   "outputs": [
    {
     "data": {
      "text/html": [
       "<div>\n",
       "<style scoped>\n",
       "    .dataframe tbody tr th:only-of-type {\n",
       "        vertical-align: middle;\n",
       "    }\n",
       "\n",
       "    .dataframe tbody tr th {\n",
       "        vertical-align: top;\n",
       "    }\n",
       "\n",
       "    .dataframe thead th {\n",
       "        text-align: right;\n",
       "    }\n",
       "</style>\n",
       "<table border=\"1\" class=\"dataframe\">\n",
       "  <thead>\n",
       "    <tr style=\"text-align: right;\">\n",
       "      <th></th>\n",
       "      <th>colors</th>\n",
       "      <th>blooming_season</th>\n",
       "    </tr>\n",
       "    <tr>\n",
       "      <th>flowers</th>\n",
       "      <th></th>\n",
       "      <th></th>\n",
       "    </tr>\n",
       "  </thead>\n",
       "  <tbody>\n",
       "    <tr>\n",
       "      <th>rose</th>\n",
       "      <td>red</td>\n",
       "      <td>spring</td>\n",
       "    </tr>\n",
       "    <tr>\n",
       "      <th>daisy</th>\n",
       "      <td>white</td>\n",
       "      <td>spring</td>\n",
       "    </tr>\n",
       "    <tr>\n",
       "      <th>sunflower</th>\n",
       "      <td>yellow</td>\n",
       "      <td>summer</td>\n",
       "    </tr>\n",
       "  </tbody>\n",
       "</table>\n",
       "</div>"
      ],
      "text/plain": [
       "           colors blooming_season\n",
       "flowers                          \n",
       "rose          red          spring\n",
       "daisy       white          spring\n",
       "sunflower  yellow          summer"
      ]
     },
     "execution_count": 47,
     "metadata": {},
     "output_type": "execute_result"
    }
   ],
   "source": [
    "# Assign DataFrame index to flower type\n",
    "flower_df.set_index('flowers', inplace=True)\n",
    "flower_df"
   ]
  },
  {
   "cell_type": "code",
   "execution_count": 48,
   "metadata": {},
   "outputs": [
    {
     "name": "stdout",
     "output_type": "stream",
     "text": [
      "['colors', 'blooming_season']\n"
     ]
    }
   ],
   "source": [
    "# Get list of columns\n",
    "columns = flower_df.columns.to_list()\n",
    "print(columns)"
   ]
  },
  {
   "cell_type": "code",
   "execution_count": 49,
   "metadata": {},
   "outputs": [
    {
     "name": "stdout",
     "output_type": "stream",
     "text": [
      "['spring' 'summer']\n",
      "spring    2\n",
      "summer    1\n",
      "Name: blooming_season, dtype: int64\n"
     ]
    }
   ],
   "source": [
    "# Get Unique list of values within a column\n",
    "print(flower_df['blooming_season'].unique())\n",
    "\n",
    "# Get Counts of the set of values within a column\n",
    "print(flower_df['blooming_season'].value_counts())"
   ]
  },
  {
   "cell_type": "markdown",
   "metadata": {},
   "source": [
    "### Pandas Read in tabular data with header\n",
    "\n",
    "#### Source: https://www.kaggle.com/srikarkashyap/analyzing-healthcare-data-tutorial"
   ]
  },
  {
   "cell_type": "code",
   "execution_count": 51,
   "metadata": {},
   "outputs": [
    {
     "data": {
      "text/html": [
       "<div>\n",
       "<style scoped>\n",
       "    .dataframe tbody tr th:only-of-type {\n",
       "        vertical-align: middle;\n",
       "    }\n",
       "\n",
       "    .dataframe tbody tr th {\n",
       "        vertical-align: top;\n",
       "    }\n",
       "\n",
       "    .dataframe thead th {\n",
       "        text-align: right;\n",
       "    }\n",
       "</style>\n",
       "<table border=\"1\" class=\"dataframe\">\n",
       "  <thead>\n",
       "    <tr style=\"text-align: right;\">\n",
       "      <th></th>\n",
       "      <th>AGE</th>\n",
       "      <th>SEX</th>\n",
       "      <th>CASTE_NAME</th>\n",
       "      <th>CATEGORY_CODE</th>\n",
       "      <th>CATEGORY_NAME</th>\n",
       "      <th>SURGERY_CODE</th>\n",
       "      <th>SURGERY</th>\n",
       "      <th>VILLAGE</th>\n",
       "      <th>MANDAL_NAME</th>\n",
       "      <th>DISTRICT_NAME</th>\n",
       "      <th>...</th>\n",
       "      <th>CLAIM_AMOUNT</th>\n",
       "      <th>HOSP_NAME</th>\n",
       "      <th>HOSP_TYPE</th>\n",
       "      <th>HOSP_LOCATION</th>\n",
       "      <th>HOSP_DISTRICT</th>\n",
       "      <th>SURGERY_DATE</th>\n",
       "      <th>DISCHARGE_DATE</th>\n",
       "      <th>Mortality Y / N</th>\n",
       "      <th>MORTALITY_DATE</th>\n",
       "      <th>SRC_REGISTRATION</th>\n",
       "    </tr>\n",
       "    <tr>\n",
       "      <th></th>\n",
       "      <th></th>\n",
       "      <th></th>\n",
       "      <th></th>\n",
       "      <th></th>\n",
       "      <th></th>\n",
       "      <th></th>\n",
       "      <th></th>\n",
       "      <th></th>\n",
       "      <th></th>\n",
       "      <th></th>\n",
       "      <th></th>\n",
       "      <th></th>\n",
       "      <th></th>\n",
       "      <th></th>\n",
       "      <th></th>\n",
       "      <th></th>\n",
       "      <th></th>\n",
       "      <th></th>\n",
       "      <th></th>\n",
       "      <th></th>\n",
       "      <th></th>\n",
       "    </tr>\n",
       "  </thead>\n",
       "  <tbody>\n",
       "    <tr>\n",
       "      <th>1</th>\n",
       "      <td>56</td>\n",
       "      <td>Female</td>\n",
       "      <td>BC</td>\n",
       "      <td>M6</td>\n",
       "      <td>NEPHROLOGY</td>\n",
       "      <td>M6.5</td>\n",
       "      <td>Maintenance Hemodialysis For Crf</td>\n",
       "      <td>Lolugu</td>\n",
       "      <td>Ponduru</td>\n",
       "      <td>Srikakulam</td>\n",
       "      <td>...</td>\n",
       "      <td>11000</td>\n",
       "      <td>Rims Govt. General Hospital, Srikakulam</td>\n",
       "      <td>G</td>\n",
       "      <td>SRIKAKULAM</td>\n",
       "      <td>Srikakulam</td>\n",
       "      <td>06/08/2013 00:00:00</td>\n",
       "      <td>07/09/2013 00:00:00</td>\n",
       "      <td>NO</td>\n",
       "      <td>NaN</td>\n",
       "      <td>D</td>\n",
       "    </tr>\n",
       "    <tr>\n",
       "      <th>2</th>\n",
       "      <td>37</td>\n",
       "      <td>Male</td>\n",
       "      <td>BC</td>\n",
       "      <td>M6</td>\n",
       "      <td>NEPHROLOGY</td>\n",
       "      <td>M6.5</td>\n",
       "      <td>Maintenance Hemodialysis For Crf</td>\n",
       "      <td>Borivanka</td>\n",
       "      <td>Kaviti</td>\n",
       "      <td>Srikakulam</td>\n",
       "      <td>...</td>\n",
       "      <td>11000</td>\n",
       "      <td>Rims Govt. General Hospital, Srikakulam</td>\n",
       "      <td>G</td>\n",
       "      <td>SRIKAKULAM</td>\n",
       "      <td>Srikakulam</td>\n",
       "      <td>08/08/2013 00:00:00</td>\n",
       "      <td>09/09/2013 00:00:00</td>\n",
       "      <td>NO</td>\n",
       "      <td>NaN</td>\n",
       "      <td>D</td>\n",
       "    </tr>\n",
       "  </tbody>\n",
       "</table>\n",
       "<p>2 rows × 23 columns</p>\n",
       "</div>"
      ],
      "text/plain": [
       "     AGE     SEX CASTE_NAME CATEGORY_CODE CATEGORY_NAME SURGERY_CODE  \\\n",
       "                                                                       \n",
       "1     56  Female         BC            M6    NEPHROLOGY         M6.5   \n",
       "2     37    Male         BC            M6    NEPHROLOGY         M6.5   \n",
       "\n",
       "                              SURGERY    VILLAGE MANDAL_NAME DISTRICT_NAME  \\\n",
       "                                                                             \n",
       "1    Maintenance Hemodialysis For Crf     Lolugu     Ponduru    Srikakulam   \n",
       "2    Maintenance Hemodialysis For Crf  Borivanka      Kaviti    Srikakulam   \n",
       "\n",
       "     ... CLAIM_AMOUNT                                HOSP_NAME HOSP_TYPE  \\\n",
       "     ...                                                                   \n",
       "1    ...        11000  Rims Govt. General Hospital, Srikakulam         G   \n",
       "2    ...        11000  Rims Govt. General Hospital, Srikakulam         G   \n",
       "\n",
       "     HOSP_LOCATION HOSP_DISTRICT         SURGERY_DATE       DISCHARGE_DATE  \\\n",
       "                                                                             \n",
       "1       SRIKAKULAM    Srikakulam  06/08/2013 00:00:00  07/09/2013 00:00:00   \n",
       "2       SRIKAKULAM    Srikakulam  08/08/2013 00:00:00  09/09/2013 00:00:00   \n",
       "\n",
       "    Mortality Y / N MORTALITY_DATE SRC_REGISTRATION  \n",
       "                                                     \n",
       "1                NO            NaN                D  \n",
       "2                NO            NaN                D  \n",
       "\n",
       "[2 rows x 23 columns]"
      ]
     },
     "execution_count": 51,
     "metadata": {},
     "output_type": "execute_result"
    }
   ],
   "source": [
    "df = pd.read_csv('inputs/pandas_healthcare_input_data.csv', index_col=0)\n",
    "df.head(2)"
   ]
  },
  {
   "cell_type": "code",
   "execution_count": 52,
   "metadata": {},
   "outputs": [
    {
     "data": {
      "text/html": [
       "<div>\n",
       "<style scoped>\n",
       "    .dataframe tbody tr th:only-of-type {\n",
       "        vertical-align: middle;\n",
       "    }\n",
       "\n",
       "    .dataframe tbody tr th {\n",
       "        vertical-align: top;\n",
       "    }\n",
       "\n",
       "    .dataframe thead th {\n",
       "        text-align: right;\n",
       "    }\n",
       "</style>\n",
       "<table border=\"1\" class=\"dataframe\">\n",
       "  <thead>\n",
       "    <tr style=\"text-align: right;\">\n",
       "      <th></th>\n",
       "      <th>AGE</th>\n",
       "      <th>PREAUTH_AMT</th>\n",
       "      <th>CLAIM_AMOUNT</th>\n",
       "    </tr>\n",
       "  </thead>\n",
       "  <tbody>\n",
       "    <tr>\n",
       "      <th>count</th>\n",
       "      <td>479688.000000</td>\n",
       "      <td>479688.000000</td>\n",
       "      <td>479688.000000</td>\n",
       "    </tr>\n",
       "    <tr>\n",
       "      <th>mean</th>\n",
       "      <td>44.912264</td>\n",
       "      <td>30428.941698</td>\n",
       "      <td>27652.205861</td>\n",
       "    </tr>\n",
       "    <tr>\n",
       "      <th>std</th>\n",
       "      <td>18.961084</td>\n",
       "      <td>27441.592281</td>\n",
       "      <td>25951.706037</td>\n",
       "    </tr>\n",
       "    <tr>\n",
       "      <th>min</th>\n",
       "      <td>0.000000</td>\n",
       "      <td>5.000000</td>\n",
       "      <td>2.000000</td>\n",
       "    </tr>\n",
       "    <tr>\n",
       "      <th>25%</th>\n",
       "      <td>34.000000</td>\n",
       "      <td>12500.000000</td>\n",
       "      <td>12500.000000</td>\n",
       "    </tr>\n",
       "    <tr>\n",
       "      <th>50%</th>\n",
       "      <td>47.000000</td>\n",
       "      <td>25000.000000</td>\n",
       "      <td>23200.000000</td>\n",
       "    </tr>\n",
       "    <tr>\n",
       "      <th>75%</th>\n",
       "      <td>59.000000</td>\n",
       "      <td>35000.000000</td>\n",
       "      <td>30600.000000</td>\n",
       "    </tr>\n",
       "    <tr>\n",
       "      <th>max</th>\n",
       "      <td>107.000000</td>\n",
       "      <td>520000.000000</td>\n",
       "      <td>520000.000000</td>\n",
       "    </tr>\n",
       "  </tbody>\n",
       "</table>\n",
       "</div>"
      ],
      "text/plain": [
       "                 AGE    PREAUTH_AMT   CLAIM_AMOUNT\n",
       "count  479688.000000  479688.000000  479688.000000\n",
       "mean       44.912264   30428.941698   27652.205861\n",
       "std        18.961084   27441.592281   25951.706037\n",
       "min         0.000000       5.000000       2.000000\n",
       "25%        34.000000   12500.000000   12500.000000\n",
       "50%        47.000000   25000.000000   23200.000000\n",
       "75%        59.000000   35000.000000   30600.000000\n",
       "max       107.000000  520000.000000  520000.000000"
      ]
     },
     "execution_count": 52,
     "metadata": {},
     "output_type": "execute_result"
    }
   ],
   "source": [
    "# Print Summary Statistics of the numeric columns\n",
    "df.describe()"
   ]
  },
  {
   "cell_type": "code",
   "execution_count": 53,
   "metadata": {},
   "outputs": [
    {
     "name": "stdout",
     "output_type": "stream",
     "text": [
      "<class 'pandas.core.frame.DataFrame'>\n",
      "Int64Index: 479688 entries, 1 to 479688\n",
      "Data columns (total 23 columns):\n",
      " #   Column            Non-Null Count   Dtype \n",
      "---  ------            --------------   ----- \n",
      " 0   AGE               479688 non-null  int64 \n",
      " 1   SEX               479688 non-null  object\n",
      " 2   CASTE_NAME        479688 non-null  object\n",
      " 3   CATEGORY_CODE     479688 non-null  object\n",
      " 4   CATEGORY_NAME     479688 non-null  object\n",
      " 5   SURGERY_CODE      479688 non-null  object\n",
      " 6   SURGERY           479688 non-null  object\n",
      " 7   VILLAGE           479688 non-null  object\n",
      " 8   MANDAL_NAME       479688 non-null  object\n",
      " 9   DISTRICT_NAME     479688 non-null  object\n",
      " 10  PREAUTH_DATE      479688 non-null  object\n",
      " 11  PREAUTH_AMT       479688 non-null  int64 \n",
      " 12  CLAIM_DATE        479688 non-null  object\n",
      " 13  CLAIM_AMOUNT      479688 non-null  int64 \n",
      " 14  HOSP_NAME         479688 non-null  object\n",
      " 15  HOSP_TYPE         479688 non-null  object\n",
      " 16  HOSP_LOCATION     479688 non-null  object\n",
      " 17  HOSP_DISTRICT     479688 non-null  object\n",
      " 18  SURGERY_DATE      479688 non-null  object\n",
      " 19  DISCHARGE_DATE    475128 non-null  object\n",
      " 20  Mortality Y / N   479688 non-null  object\n",
      " 21  MORTALITY_DATE    10122 non-null   object\n",
      " 22  SRC_REGISTRATION  479688 non-null  object\n",
      "dtypes: int64(3), object(20)\n",
      "memory usage: 87.8+ MB\n"
     ]
    }
   ],
   "source": [
    "# Print data type info by column\n",
    "df.info()"
   ]
  },
  {
   "cell_type": "code",
   "execution_count": 54,
   "metadata": {},
   "outputs": [
    {
     "name": "stdout",
     "output_type": "stream",
     "text": [
      "['AGE', 'SEX', 'CASTE_NAME', 'CATEGORY_CODE', 'CATEGORY_NAME', 'SURGERY_CODE', 'SURGERY', 'VILLAGE', 'MANDAL_NAME', 'DISTRICT_NAME', 'PREAUTH_DATE', 'PREAUTH_AMT', 'CLAIM_DATE', 'CLAIM_AMOUNT', 'HOSP_NAME', 'HOSP_TYPE', 'HOSP_LOCATION', 'HOSP_DISTRICT', 'SURGERY_DATE', 'DISCHARGE_DATE', 'Mortality Y / N', 'MORTALITY_DATE', 'SRC_REGISTRATION']\n"
     ]
    }
   ],
   "source": [
    "# Get list of columns\n",
    "df_columns = df.columns.to_list()\n",
    "print(df_columns)"
   ]
  },
  {
   "cell_type": "code",
   "execution_count": 55,
   "metadata": {},
   "outputs": [
    {
     "data": {
      "text/plain": [
       "Male             260718\n",
       "Female           178947\n",
       "Male(Child)       25068\n",
       "Female(Child)     14925\n",
       "FEMALE               21\n",
       "MALE                  9\n",
       "Name: SEX, dtype: int64"
      ]
     },
     "execution_count": 55,
     "metadata": {},
     "output_type": "execute_result"
    }
   ],
   "source": [
    "# Display counts of each value in the sex column\n",
    "df['SEX'].value_counts()\n",
    "# Do you see any issues with this data?"
   ]
  },
  {
   "cell_type": "code",
   "execution_count": 56,
   "metadata": {},
   "outputs": [
    {
     "data": {
      "text/plain": [
       "Male      260727\n",
       "Female    178968\n",
       "Boy        25068\n",
       "Girl       14925\n",
       "Name: SEX, dtype: int64"
      ]
     },
     "execution_count": 56,
     "metadata": {},
     "output_type": "execute_result"
    }
   ],
   "source": [
    "# Have both 'Male' and 'MALE' listed, can fix that and rename Male(Child) and Female(Child) as Girl and Boy\n",
    "mappings = {'MALE':'Male', 'FEMALE': 'Female', 'Male(Child)': 'Boy', 'Female(Child)' :'Girl'}\n",
    "df['SEX'] = df['SEX'].replace(mappings)\n",
    "df['SEX'].value_counts()"
   ]
  },
  {
   "cell_type": "code",
   "execution_count": 57,
   "metadata": {},
   "outputs": [
    {
     "data": {
      "text/plain": [
       "<AxesSubplot:>"
      ]
     },
     "execution_count": 57,
     "metadata": {},
     "output_type": "execute_result"
    },
    {
     "data": {
      "image/png": "[encoded data removed]",
      "text/plain": [
       "<Figure size 432x288 with 1 Axes>"
      ]
     },
     "metadata": {
      "needs_background": "light"
     },
     "output_type": "display_data"
    }
   ],
   "source": [
    "# Plot bar graph of counts\n",
    "df['SEX'].value_counts().plot.bar()"
   ]
  },
  {
   "cell_type": "code",
   "execution_count": 58,
   "metadata": {},
   "outputs": [
    {
     "name": "stdout",
     "output_type": "stream",
     "text": [
      "Mean: 44.91\n",
      "Median: 47.0\n",
      "Standard Deviation: 18.96\n"
     ]
    },
    {
     "data": {
      "text/plain": [
       "<AxesSubplot:>"
      ]
     },
     "metadata": {},
     "output_type": "display_data"
    },
    {
     "data": {
      "image/png": "[encoded data removed]",
      "text/plain": [
       "<Figure size 432x288 with 1 Axes>"
      ]
     },
     "metadata": {
      "needs_background": "light"
     },
     "output_type": "display_data"
    }
   ],
   "source": [
    "# Find mean, median, and standard deviation of 'AGE'\n",
    "print('Mean: {}'.format(df['AGE'].mean().round(2)))\n",
    "print('Median: {}'.format(df['AGE'].median().round(2)))\n",
    "print('Standard Deviation: {}'.format(df['AGE'].std().round(2)))\n",
    "\n",
    "display(df['AGE'].plot.box())"
   ]
  },
  {
   "cell_type": "markdown",
   "metadata": {},
   "source": [
    "## DateTime Indexing\n",
    "Originally developed for financial data, the time series tools in the pandas libraries can also be used with health/biology time series data. A time series is any data set where the values are measured at diferent points. in time, either uniformally or irregularly sampled.\n",
    "\n",
    "#### Source: https://www.dataquest.io/blog/tutorial-time-series-analysis-with-pandas/\n",
    "#### Data: Open Power System Data (OPSD) from Germany"
   ]
  },
  {
   "cell_type": "code",
   "execution_count": 59,
   "metadata": {},
   "outputs": [],
   "source": [
    "opsd_daily = pd.read_csv('inputs/pandas_datetime_input_data.csv')"
   ]
  },
  {
   "cell_type": "code",
   "execution_count": 60,
   "metadata": {},
   "outputs": [
    {
     "data": {
      "text/plain": [
       "(4383, 5)"
      ]
     },
     "metadata": {},
     "output_type": "display_data"
    },
    {
     "name": "stdout",
     "output_type": "stream",
     "text": [
      "['Date', 'Consumption', 'Wind', 'Solar', 'Wind+Solar']\n"
     ]
    },
    {
     "data": {
      "text/html": [
       "<div>\n",
       "<style scoped>\n",
       "    .dataframe tbody tr th:only-of-type {\n",
       "        vertical-align: middle;\n",
       "    }\n",
       "\n",
       "    .dataframe tbody tr th {\n",
       "        vertical-align: top;\n",
       "    }\n",
       "\n",
       "    .dataframe thead th {\n",
       "        text-align: right;\n",
       "    }\n",
       "</style>\n",
       "<table border=\"1\" class=\"dataframe\">\n",
       "  <thead>\n",
       "    <tr style=\"text-align: right;\">\n",
       "      <th></th>\n",
       "      <th>Date</th>\n",
       "      <th>Consumption</th>\n",
       "      <th>Wind</th>\n",
       "      <th>Solar</th>\n",
       "      <th>Wind+Solar</th>\n",
       "    </tr>\n",
       "  </thead>\n",
       "  <tbody>\n",
       "    <tr>\n",
       "      <th>4380</th>\n",
       "      <td>2017-12-29</td>\n",
       "      <td>1295.08753</td>\n",
       "      <td>584.277</td>\n",
       "      <td>29.854</td>\n",
       "      <td>614.131</td>\n",
       "    </tr>\n",
       "    <tr>\n",
       "      <th>4381</th>\n",
       "      <td>2017-12-30</td>\n",
       "      <td>1215.44897</td>\n",
       "      <td>721.247</td>\n",
       "      <td>7.467</td>\n",
       "      <td>728.714</td>\n",
       "    </tr>\n",
       "    <tr>\n",
       "      <th>4382</th>\n",
       "      <td>2017-12-31</td>\n",
       "      <td>1107.11488</td>\n",
       "      <td>721.176</td>\n",
       "      <td>19.980</td>\n",
       "      <td>741.156</td>\n",
       "    </tr>\n",
       "  </tbody>\n",
       "</table>\n",
       "</div>"
      ],
      "text/plain": [
       "            Date  Consumption     Wind   Solar  Wind+Solar\n",
       "4380  2017-12-29   1295.08753  584.277  29.854     614.131\n",
       "4381  2017-12-30   1215.44897  721.247   7.467     728.714\n",
       "4382  2017-12-31   1107.11488  721.176  19.980     741.156"
      ]
     },
     "metadata": {},
     "output_type": "display_data"
    },
    {
     "data": {
      "text/plain": [
       "Date            object\n",
       "Consumption    float64\n",
       "Wind           float64\n",
       "Solar          float64\n",
       "Wind+Solar     float64\n",
       "dtype: object"
      ]
     },
     "metadata": {},
     "output_type": "display_data"
    }
   ],
   "source": [
    "# Get number of rows and columnsd\n",
    "display(opsd_daily.shape)\n",
    "\n",
    "# Get list of columns\n",
    "opsd_columns = opsd_daily.columns.to_list()\n",
    "print(opsd_columns)\n",
    "\n",
    "# View last 3 rows\n",
    "display(opsd_daily.tail(3))\n",
    "\n",
    "# Show data types\n",
    "display(opsd_daily.dtypes)"
   ]
  },
  {
   "cell_type": "code",
   "execution_count": 61,
   "metadata": {},
   "outputs": [
    {
     "data": {
      "text/plain": [
       "Date           datetime64[ns]\n",
       "Consumption           float64\n",
       "Wind                  float64\n",
       "Solar                 float64\n",
       "Wind+Solar            float64\n",
       "dtype: object"
      ]
     },
     "metadata": {},
     "output_type": "display_data"
    },
    {
     "data": {
      "text/html": [
       "<div>\n",
       "<style scoped>\n",
       "    .dataframe tbody tr th:only-of-type {\n",
       "        vertical-align: middle;\n",
       "    }\n",
       "\n",
       "    .dataframe tbody tr th {\n",
       "        vertical-align: top;\n",
       "    }\n",
       "\n",
       "    .dataframe thead th {\n",
       "        text-align: right;\n",
       "    }\n",
       "</style>\n",
       "<table border=\"1\" class=\"dataframe\">\n",
       "  <thead>\n",
       "    <tr style=\"text-align: right;\">\n",
       "      <th></th>\n",
       "      <th>Consumption</th>\n",
       "      <th>Wind</th>\n",
       "      <th>Solar</th>\n",
       "      <th>Wind+Solar</th>\n",
       "    </tr>\n",
       "    <tr>\n",
       "      <th>Date</th>\n",
       "      <th></th>\n",
       "      <th></th>\n",
       "      <th></th>\n",
       "      <th></th>\n",
       "    </tr>\n",
       "  </thead>\n",
       "  <tbody>\n",
       "    <tr>\n",
       "      <th>2006-01-01</th>\n",
       "      <td>1069.184</td>\n",
       "      <td>NaN</td>\n",
       "      <td>NaN</td>\n",
       "      <td>NaN</td>\n",
       "    </tr>\n",
       "    <tr>\n",
       "      <th>2006-01-02</th>\n",
       "      <td>1380.521</td>\n",
       "      <td>NaN</td>\n",
       "      <td>NaN</td>\n",
       "      <td>NaN</td>\n",
       "    </tr>\n",
       "    <tr>\n",
       "      <th>2006-01-03</th>\n",
       "      <td>1442.533</td>\n",
       "      <td>NaN</td>\n",
       "      <td>NaN</td>\n",
       "      <td>NaN</td>\n",
       "    </tr>\n",
       "  </tbody>\n",
       "</table>\n",
       "</div>"
      ],
      "text/plain": [
       "            Consumption  Wind  Solar  Wind+Solar\n",
       "Date                                            \n",
       "2006-01-01     1069.184   NaN    NaN         NaN\n",
       "2006-01-02     1380.521   NaN    NaN         NaN\n",
       "2006-01-03     1442.533   NaN    NaN         NaN"
      ]
     },
     "metadata": {},
     "output_type": "display_data"
    }
   ],
   "source": [
    "# Convert Date column to DateTime object\n",
    "opsd_daily['Date'] = pd.to_datetime(opsd_daily['Date'])\n",
    "\n",
    "# Show data types\n",
    "display(opsd_daily.dtypes)\n",
    "\n",
    "# Set index to Date\n",
    "opsd_daily = opsd_daily.set_index('Date')\n",
    "\n",
    "# View top 3 rows\n",
    "display(opsd_daily.head(3))"
   ]
  },
  {
   "cell_type": "code",
   "execution_count": 62,
   "metadata": {},
   "outputs": [
    {
     "data": {
      "text/html": [
       "<div>\n",
       "<style scoped>\n",
       "    .dataframe tbody tr th:only-of-type {\n",
       "        vertical-align: middle;\n",
       "    }\n",
       "\n",
       "    .dataframe tbody tr th {\n",
       "        vertical-align: top;\n",
       "    }\n",
       "\n",
       "    .dataframe thead th {\n",
       "        text-align: right;\n",
       "    }\n",
       "</style>\n",
       "<table border=\"1\" class=\"dataframe\">\n",
       "  <thead>\n",
       "    <tr style=\"text-align: right;\">\n",
       "      <th></th>\n",
       "      <th>Consumption</th>\n",
       "      <th>Wind</th>\n",
       "      <th>Solar</th>\n",
       "      <th>Wind+Solar</th>\n",
       "      <th>Year</th>\n",
       "      <th>Month</th>\n",
       "      <th>Weekday Name</th>\n",
       "    </tr>\n",
       "    <tr>\n",
       "      <th>Date</th>\n",
       "      <th></th>\n",
       "      <th></th>\n",
       "      <th></th>\n",
       "      <th></th>\n",
       "      <th></th>\n",
       "      <th></th>\n",
       "      <th></th>\n",
       "    </tr>\n",
       "  </thead>\n",
       "  <tbody>\n",
       "    <tr>\n",
       "      <th>2008-08-23</th>\n",
       "      <td>1152.011</td>\n",
       "      <td>NaN</td>\n",
       "      <td>NaN</td>\n",
       "      <td>NaN</td>\n",
       "      <td>2008</td>\n",
       "      <td>8</td>\n",
       "      <td>Saturday</td>\n",
       "    </tr>\n",
       "    <tr>\n",
       "      <th>2013-08-08</th>\n",
       "      <td>1291.984</td>\n",
       "      <td>79.666</td>\n",
       "      <td>93.371</td>\n",
       "      <td>173.037</td>\n",
       "      <td>2013</td>\n",
       "      <td>8</td>\n",
       "      <td>Thursday</td>\n",
       "    </tr>\n",
       "    <tr>\n",
       "      <th>2009-08-27</th>\n",
       "      <td>1281.057</td>\n",
       "      <td>NaN</td>\n",
       "      <td>NaN</td>\n",
       "      <td>NaN</td>\n",
       "      <td>2009</td>\n",
       "      <td>8</td>\n",
       "      <td>Thursday</td>\n",
       "    </tr>\n",
       "  </tbody>\n",
       "</table>\n",
       "</div>"
      ],
      "text/plain": [
       "            Consumption    Wind   Solar  Wind+Solar  Year  Month Weekday Name\n",
       "Date                                                                         \n",
       "2008-08-23     1152.011     NaN     NaN         NaN  2008      8     Saturday\n",
       "2013-08-08     1291.984  79.666  93.371     173.037  2013      8     Thursday\n",
       "2009-08-27     1281.057     NaN     NaN         NaN  2009      8     Thursday"
      ]
     },
     "execution_count": 62,
     "metadata": {},
     "output_type": "execute_result"
    }
   ],
   "source": [
    "# Add Year, Month, and Weekday Name to the dataframe\n",
    "# Add columns with year, month, and weekday name\n",
    "opsd_daily['Year'] = opsd_daily.index.year\n",
    "opsd_daily['Month'] = opsd_daily.index.month\n",
    "opsd_daily['Weekday Name'] = opsd_daily.index.day_name()\n",
    "\n",
    "# Display a random sampling of 3 rows\n",
    "opsd_daily.sample(3, random_state=0)"
   ]
  },
  {
   "cell_type": "code",
   "execution_count": 63,
   "metadata": {},
   "outputs": [
    {
     "data": {
      "text/plain": [
       "Consumption     1351.491\n",
       "Wind             100.274\n",
       "Solar              71.16\n",
       "Wind+Solar       171.434\n",
       "Year                2017\n",
       "Month                  8\n",
       "Weekday Name    Thursday\n",
       "Name: 2017-08-10 00:00:00, dtype: object"
      ]
     },
     "metadata": {},
     "output_type": "display_data"
    },
    {
     "data": {
      "text/html": [
       "<div>\n",
       "<style scoped>\n",
       "    .dataframe tbody tr th:only-of-type {\n",
       "        vertical-align: middle;\n",
       "    }\n",
       "\n",
       "    .dataframe tbody tr th {\n",
       "        vertical-align: top;\n",
       "    }\n",
       "\n",
       "    .dataframe thead th {\n",
       "        text-align: right;\n",
       "    }\n",
       "</style>\n",
       "<table border=\"1\" class=\"dataframe\">\n",
       "  <thead>\n",
       "    <tr style=\"text-align: right;\">\n",
       "      <th></th>\n",
       "      <th>Consumption</th>\n",
       "      <th>Wind</th>\n",
       "      <th>Solar</th>\n",
       "      <th>Wind+Solar</th>\n",
       "      <th>Year</th>\n",
       "      <th>Month</th>\n",
       "      <th>Weekday Name</th>\n",
       "    </tr>\n",
       "    <tr>\n",
       "      <th>Date</th>\n",
       "      <th></th>\n",
       "      <th></th>\n",
       "      <th></th>\n",
       "      <th></th>\n",
       "      <th></th>\n",
       "      <th></th>\n",
       "      <th></th>\n",
       "    </tr>\n",
       "  </thead>\n",
       "  <tbody>\n",
       "    <tr>\n",
       "      <th>2017-08-10</th>\n",
       "      <td>1351.491</td>\n",
       "      <td>100.274</td>\n",
       "      <td>71.160</td>\n",
       "      <td>171.434</td>\n",
       "      <td>2017</td>\n",
       "      <td>8</td>\n",
       "      <td>Thursday</td>\n",
       "    </tr>\n",
       "    <tr>\n",
       "      <th>2017-08-11</th>\n",
       "      <td>1329.039</td>\n",
       "      <td>108.577</td>\n",
       "      <td>42.198</td>\n",
       "      <td>150.775</td>\n",
       "      <td>2017</td>\n",
       "      <td>8</td>\n",
       "      <td>Friday</td>\n",
       "    </tr>\n",
       "    <tr>\n",
       "      <th>2017-08-12</th>\n",
       "      <td>1121.458</td>\n",
       "      <td>305.908</td>\n",
       "      <td>80.906</td>\n",
       "      <td>386.814</td>\n",
       "      <td>2017</td>\n",
       "      <td>8</td>\n",
       "      <td>Saturday</td>\n",
       "    </tr>\n",
       "  </tbody>\n",
       "</table>\n",
       "</div>"
      ],
      "text/plain": [
       "            Consumption     Wind   Solar  Wind+Solar  Year  Month Weekday Name\n",
       "Date                                                                          \n",
       "2017-08-10     1351.491  100.274  71.160     171.434  2017      8     Thursday\n",
       "2017-08-11     1329.039  108.577  42.198     150.775  2017      8       Friday\n",
       "2017-08-12     1121.458  305.908  80.906     386.814  2017      8     Saturday"
      ]
     },
     "metadata": {},
     "output_type": "display_data"
    }
   ],
   "source": [
    "# Select data for a single day\n",
    "display(opsd_daily.loc['2017-08-10'])\n",
    "\n",
    "# Select data for a range of days\n",
    "display(opsd_daily.loc['2017-08-10': '2017-08-12'])"
   ]
  },
  {
   "cell_type": "markdown",
   "metadata": {},
   "source": [
    "### Visualizing with Matplotlib"
   ]
  },
  {
   "cell_type": "code",
   "execution_count": 64,
   "metadata": {},
   "outputs": [
    {
     "data": {
      "text/plain": [
       "<AxesSubplot:xlabel='Date'>"
      ]
     },
     "execution_count": 64,
     "metadata": {},
     "output_type": "execute_result"
    },
    {
     "data": {
      "image/png": "[encoded data removed]",
      "text/plain": [
       "<Figure size 576x288 with 1 Axes>"
      ]
     },
     "metadata": {
      "needs_background": "light"
     },
     "output_type": "display_data"
    }
   ],
   "source": [
    "import matplotlib.pyplot as plt\n",
    "\n",
    "opsd_daily['Consumption'].plot(linewidth=0.5, figsize=(8,4))"
   ]
  },
  {
   "cell_type": "code",
   "execution_count": 65,
   "metadata": {},
   "outputs": [
    {
     "data": {
      "image/png": "[encoded data removed]",
      "text/plain": [
       "<Figure size 792x648 with 3 Axes>"
      ]
     },
     "metadata": {
      "needs_background": "light"
     },
     "output_type": "display_data"
    }
   ],
   "source": [
    "cols_plot = ['Consumption', 'Solar', 'Wind']\n",
    "\n",
    "axes = opsd_daily[cols_plot].plot(marker='.', alpha=0.5, linestyle='None', figsize=(11, 9), subplots=True)\n",
    "\n",
    "for ax in axes:\n",
    "    ax.set_ylabel('Daily Totals (GWh)')"
   ]
  },
  {
   "cell_type": "code",
   "execution_count": 66,
   "metadata": {},
   "outputs": [
    {
     "data": {
      "text/html": [
       "<div>\n",
       "<style scoped>\n",
       "    .dataframe tbody tr th:only-of-type {\n",
       "        vertical-align: middle;\n",
       "    }\n",
       "\n",
       "    .dataframe tbody tr th {\n",
       "        vertical-align: top;\n",
       "    }\n",
       "\n",
       "    .dataframe thead th {\n",
       "        text-align: right;\n",
       "    }\n",
       "</style>\n",
       "<table border=\"1\" class=\"dataframe\">\n",
       "  <thead>\n",
       "    <tr style=\"text-align: right;\">\n",
       "      <th></th>\n",
       "      <th>Consumption</th>\n",
       "      <th>Wind</th>\n",
       "      <th>Solar</th>\n",
       "      <th>Wind+Solar</th>\n",
       "    </tr>\n",
       "    <tr>\n",
       "      <th>Date</th>\n",
       "      <th></th>\n",
       "      <th></th>\n",
       "      <th></th>\n",
       "      <th></th>\n",
       "    </tr>\n",
       "  </thead>\n",
       "  <tbody>\n",
       "    <tr>\n",
       "      <th>2006-01-01</th>\n",
       "      <td>1069.184</td>\n",
       "      <td>NaN</td>\n",
       "      <td>NaN</td>\n",
       "      <td>NaN</td>\n",
       "    </tr>\n",
       "    <tr>\n",
       "      <th>2006-01-08</th>\n",
       "      <td>1403.427</td>\n",
       "      <td>NaN</td>\n",
       "      <td>NaN</td>\n",
       "      <td>NaN</td>\n",
       "    </tr>\n",
       "    <tr>\n",
       "      <th>2006-01-15</th>\n",
       "      <td>1545.002</td>\n",
       "      <td>NaN</td>\n",
       "      <td>NaN</td>\n",
       "      <td>NaN</td>\n",
       "    </tr>\n",
       "  </tbody>\n",
       "</table>\n",
       "</div>"
      ],
      "text/plain": [
       "            Consumption  Wind  Solar  Wind+Solar\n",
       "Date                                            \n",
       "2006-01-01     1069.184   NaN    NaN         NaN\n",
       "2006-01-08     1403.427   NaN    NaN         NaN\n",
       "2006-01-15     1545.002   NaN    NaN         NaN"
      ]
     },
     "metadata": {},
     "output_type": "display_data"
    },
    {
     "data": {
      "image/png": "[encoded data removed]",
      "text/plain": [
       "<Figure size 576x288 with 1 Axes>"
      ]
     },
     "metadata": {
      "needs_background": "light"
     },
     "output_type": "display_data"
    }
   ],
   "source": [
    "# Resample by looking at weekly median\n",
    "\n",
    "# Specify the data columns we want to include (i.e. exclude Year, Month, Weekday Name)\n",
    "data_columns = ['Consumption', 'Wind', 'Solar', 'Wind+Solar']\n",
    "\n",
    "# Resample to weekly frequency, aggregating with median\n",
    "opsd_weekly_mean = opsd_daily[data_columns].resample('W').median()\n",
    "display(opsd_weekly_mean.head(3))\n",
    "\n",
    "# Plot daily and weekly resampled time series together\n",
    "# Start and end of the date range to extract\n",
    "start, end = '2017-01', '2017-06'\n",
    "\n",
    "fig, ax = plt.subplots(figsize=(8,4))\n",
    "ax.plot(opsd_daily.loc[start:end, 'Solar'],\n",
    "marker='.', linestyle='-', linewidth=0.5, label='Daily')\n",
    "ax.plot(opsd_weekly_mean.loc[start:end, 'Solar'],\n",
    "marker='o', markersize=8, linestyle='-', label='Weekly Mean Resample')\n",
    "ax.set_ylabel('Solar Production (GWh)')\n",
    "ax.legend()\n",
    "plt.show()"
   ]
  },
  {
   "cell_type": "markdown",
   "metadata": {},
   "source": [
    "# Unit Testing\n",
    "Based on Rubik's code tutorial: https://rubikscode.net/2021/05/24/test-driven-development-tdd-with-python/\n",
    "\n",
    "A unit test is a piece of code that tests another piece of code.\n",
    "\n",
    "### Rick & Morty Example\n",
    "Many versions of the charcters Rick & Morty exist in different dimensions/universes. The Citadel is place where all the different Rick and Mortys have form a society. We want to be able to assign Ricks and Mortys a universe, and add residents to the Citadel.\n",
    "\n",
    "<br> First we need to create a Rick class and a Morty class. So we first write the test and then the class."
   ]
  },
  {
   "cell_type": "code",
   "execution_count": 67,
   "metadata": {},
   "outputs": [],
   "source": [
    "import unittest\n",
    "\n",
    "class RickTests(unittest.TestCase):\n",
    "    def test_universe(self):\n",
    "        rick = Rick(111)\n",
    "        self.assertEqual(rick.universe, 111)"
   ]
  },
  {
   "cell_type": "code",
   "execution_count": 68,
   "metadata": {},
   "outputs": [
    {
     "name": "stderr",
     "output_type": "stream",
     "text": [
      "E\n",
      "======================================================================\n",
      "ERROR: test_universe (__main__.RickTests)\n",
      "----------------------------------------------------------------------\n",
      "Traceback (most recent call last):\n",
      "  File \"/var/folders/4d/qcr6x8d903300s297sgmbwmh0000gp/T/ipykernel_17271/1619608455.py\", line 5, in test_universe\n",
      "    rick = Rick(111)\n",
      "NameError: name 'Rick' is not defined\n",
      "\n",
      "----------------------------------------------------------------------\n",
      "Ran 1 test in 0.001s\n",
      "\n",
      "FAILED (errors=1)\n"
     ]
    }
   ],
   "source": [
    "if __name__ == '__main__':\n",
    "    unittest.main(argv=['first-arg-is-ignored'], exit=False) ## arguments allow for running in jupyter notebook"
   ]
  },
  {
   "cell_type": "markdown",
   "metadata": {},
   "source": [
    "We didn't define the Rick class yet so it should error!"
   ]
  },
  {
   "cell_type": "code",
   "execution_count": 69,
   "metadata": {},
   "outputs": [],
   "source": [
    "class Rick(object):\n",
    "    def __init__(self, universe):\n",
    "        self.universe = universe"
   ]
  },
  {
   "cell_type": "markdown",
   "metadata": {},
   "source": [
    "Now the unit test calls the function and should Pass!"
   ]
  },
  {
   "cell_type": "code",
   "execution_count": 70,
   "metadata": {},
   "outputs": [
    {
     "name": "stderr",
     "output_type": "stream",
     "text": [
      ".\n",
      "----------------------------------------------------------------------\n",
      "Ran 1 test in 0.001s\n",
      "\n",
      "OK\n"
     ]
    }
   ],
   "source": [
    "if __name__ == '__main__':\n",
    "    unittest.main(argv=['first-arg-is-ignored'], exit=False) ## arguments allow for running in jupyter notebook"
   ]
  },
  {
   "cell_type": "markdown",
   "metadata": {},
   "source": [
    "Now create the Morty Test and Implemenataion Classes."
   ]
  },
  {
   "cell_type": "code",
   "execution_count": 71,
   "metadata": {},
   "outputs": [],
   "source": [
    "class MortyTests(unittest.TestCase):\n",
    "    def test_universe(self):\n",
    "        morty = Morty(111)\n",
    "        self.assertEqual(morty.universe, 111)"
   ]
  },
  {
   "cell_type": "code",
   "execution_count": 72,
   "metadata": {},
   "outputs": [],
   "source": [
    "class Morty(object):\n",
    "    def __init__(self, universe):\n",
    "        self.universe = universe"
   ]
  },
  {
   "cell_type": "code",
   "execution_count": 73,
   "metadata": {},
   "outputs": [
    {
     "name": "stderr",
     "output_type": "stream",
     "text": [
      "..\n",
      "----------------------------------------------------------------------\n",
      "Ran 2 tests in 0.002s\n",
      "\n",
      "OK\n"
     ]
    }
   ],
   "source": [
    "if __name__ == '__main__':\n",
    "    unittest.main(argv=['first-arg-is-ignored'], exit=False) ## arguments allow for running in jupyter notebook"
   ]
  },
  {
   "cell_type": "markdown",
   "metadata": {},
   "source": [
    "#### Cool both tests now pass!\n",
    "\n",
    "\n",
    "Now want to make two functions that test: \n",
    "1. Returning a list of all residents\n",
    "2. Adding of new residents"
   ]
  },
  {
   "cell_type": "code",
   "execution_count": 74,
   "metadata": {},
   "outputs": [],
   "source": [
    "class CitadelTests(unittest.TestCase):\n",
    "    def test_get_all_residents(self):\n",
    "        citadel = Citadel()\n",
    "        residents = citadel.get_all_residents()\n",
    "        self.assertCountEqual(residents, [])\n",
    "        \n",
    "    def test_add_resident(self):\n",
    "        citadel = Citadel()\n",
    "        rick = Rick(111)\n",
    "        morty = Morty(111)\n",
    "        \n",
    "        citadel.add_resident(rick)\n",
    "        citadel.add_resident(morty)\n",
    "        residents = citadel.get_all_residents()\n",
    "        \n",
    "        self.assertEqual(residents[0], rick)\n",
    "        self.assertEqual(residents[1], morty)"
   ]
  },
  {
   "cell_type": "markdown",
   "metadata": {},
   "source": [
    "Next we need to implement Citadel class that contains functions to get a list of residents and add new ones."
   ]
  },
  {
   "cell_type": "code",
   "execution_count": 75,
   "metadata": {},
   "outputs": [],
   "source": [
    "class Citadel(object):\n",
    "    def __init__(self):\n",
    "        self._residents = []\n",
    "        \n",
    "    def get_all_residents(self):\n",
    "        return self._residents\n",
    "    \n",
    "    def add_resident(self, resident):\n",
    "        self._residents.append(resident)"
   ]
  },
  {
   "cell_type": "markdown",
   "metadata": {},
   "source": [
    "Now we run the test to confirm that all functions return the expected values"
   ]
  },
  {
   "cell_type": "code",
   "execution_count": 76,
   "metadata": {},
   "outputs": [
    {
     "name": "stderr",
     "output_type": "stream",
     "text": [
      "....\n",
      "----------------------------------------------------------------------\n",
      "Ran 4 tests in 0.003s\n",
      "\n",
      "OK\n"
     ]
    }
   ],
   "source": [
    "if __name__ == '__main__':\n",
    "    unittest.main(argv=['first-arg-is-ignored'], exit=False) ## arguments allow for running in jupyter notebook"
   ]
  },
  {
   "cell_type": "markdown",
   "metadata": {},
   "source": [
    "#### Tutorial continues to show how you can then turn all Ricks with assigned Mortys into <font color=green size =8>pickles!</font>\n",
    "https://rubikscode.net/2021/05/24/test-driven-development-tdd-with-python/"
   ]
  },
  {
   "cell_type": "markdown",
   "metadata": {},
   "source": [
    "# Testing & Debugging\n",
    "#### Author: Owen Chapman"
   ]
  },
  {
   "cell_type": "code",
   "execution_count": 77,
   "metadata": {},
   "outputs": [
    {
     "name": "stdout",
     "output_type": "stream",
     "text": [
      "11\n",
      "bar\n",
      "foobarfoobar\n"
     ]
    }
   ],
   "source": [
    "################\n",
    "# Code execution is sequential*\n",
    "################\n",
    "\n",
    "def some_function(string):\n",
    "    return string+string\n",
    "def some_other_function(string):\n",
    "    s=nested_function(string)\n",
    "    return s+s\n",
    "def nested_function(string):\n",
    "    return \"asdf\"+string\n",
    "\n",
    "foo = \"foo\"\n",
    "bar = \"bar\"\n",
    "foobar = foo+bar\n",
    "foobar = some_function(foobar)\n",
    "foo = some_other_function(bar)\n",
    "foo = 11\n",
    "\n",
    "# What are foo, bar and foobar now?\n",
    "# Solution:\n",
    "print(foo)\n",
    "print(bar)\n",
    "print(foobar)"
   ]
  },
  {
   "cell_type": "code",
   "execution_count": 78,
   "metadata": {},
   "outputs": [
    {
     "name": "stdout",
     "output_type": "stream",
     "text": [
      "CAATC\n",
      "AATCC\n",
      "ATCCA\n",
      "TCCAA\n"
     ]
    }
   ],
   "source": [
    "######################\n",
    "# Bug-finding exercise\n",
    "######################\n",
    "# From rosalind.info http://rosalind.info/problems/ba3a/\n",
    "# kmer composition\n",
    "def kmer_composition(string,k):\n",
    "    '''\n",
    "    Given a string and an integer k, return all k-mers in the string.\n",
    "    Inputs:\n",
    "        string (str)\n",
    "        k (int): length of the k-mer\n",
    "        NOTE: THIS IS A BUGFIXING EXERCISE, THIS FUNCTION IS INCORRECT AS WRITTEN.\n",
    "    '''\n",
    "    for i in range(len(string)- k):\n",
    "        print(string[i:i+k])\n",
    "\n",
    "kmer_composition(\"CAATCCAAC\",5)"
   ]
  },
  {
   "cell_type": "code",
   "execution_count": 79,
   "metadata": {},
   "outputs": [
    {
     "ename": "TypeError",
     "evalue": "must be real number, not str",
     "output_type": "error",
     "traceback": [
      "\u001b[0;31m---------------------------------------------------------------------------\u001b[0m",
      "\u001b[0;31mTypeError\u001b[0m                                 Traceback (most recent call last)",
      "\u001b[0;32m/var/folders/4d/qcr6x8d903300s297sgmbwmh0000gp/T/ipykernel_17271/2292562867.py\u001b[0m in \u001b[0;36m<module>\u001b[0;34m\u001b[0m\n\u001b[1;32m      5\u001b[0m \u001b[0;32mdef\u001b[0m \u001b[0msqrt\u001b[0m\u001b[0;34m(\u001b[0m\u001b[0mvalue\u001b[0m\u001b[0;34m)\u001b[0m\u001b[0;34m:\u001b[0m\u001b[0;34m\u001b[0m\u001b[0;34m\u001b[0m\u001b[0m\n\u001b[1;32m      6\u001b[0m     \u001b[0;32mreturn\u001b[0m \u001b[0mmath\u001b[0m\u001b[0;34m.\u001b[0m\u001b[0msqrt\u001b[0m\u001b[0;34m(\u001b[0m\u001b[0mvalue\u001b[0m\u001b[0;34m)\u001b[0m\u001b[0;34m\u001b[0m\u001b[0;34m\u001b[0m\u001b[0m\n\u001b[0;32m----> 7\u001b[0;31m \u001b[0msqrt\u001b[0m\u001b[0;34m(\u001b[0m\u001b[0;34m\"sixteen\"\u001b[0m\u001b[0;34m)\u001b[0m\u001b[0;34m\u001b[0m\u001b[0;34m\u001b[0m\u001b[0m\n\u001b[0m",
      "\u001b[0;32m/var/folders/4d/qcr6x8d903300s297sgmbwmh0000gp/T/ipykernel_17271/2292562867.py\u001b[0m in \u001b[0;36msqrt\u001b[0;34m(value)\u001b[0m\n\u001b[1;32m      4\u001b[0m \u001b[0;32mimport\u001b[0m \u001b[0mmath\u001b[0m\u001b[0;34m\u001b[0m\u001b[0;34m\u001b[0m\u001b[0m\n\u001b[1;32m      5\u001b[0m \u001b[0;32mdef\u001b[0m \u001b[0msqrt\u001b[0m\u001b[0;34m(\u001b[0m\u001b[0mvalue\u001b[0m\u001b[0;34m)\u001b[0m\u001b[0;34m:\u001b[0m\u001b[0;34m\u001b[0m\u001b[0;34m\u001b[0m\u001b[0m\n\u001b[0;32m----> 6\u001b[0;31m     \u001b[0;32mreturn\u001b[0m \u001b[0mmath\u001b[0m\u001b[0;34m.\u001b[0m\u001b[0msqrt\u001b[0m\u001b[0;34m(\u001b[0m\u001b[0mvalue\u001b[0m\u001b[0;34m)\u001b[0m\u001b[0;34m\u001b[0m\u001b[0;34m\u001b[0m\u001b[0m\n\u001b[0m\u001b[1;32m      7\u001b[0m \u001b[0msqrt\u001b[0m\u001b[0;34m(\u001b[0m\u001b[0;34m\"sixteen\"\u001b[0m\u001b[0;34m)\u001b[0m\u001b[0;34m\u001b[0m\u001b[0;34m\u001b[0m\u001b[0m\n",
      "\u001b[0;31mTypeError\u001b[0m: must be real number, not str"
     ]
    }
   ],
   "source": [
    "######################\n",
    "# Reading the stacktrace\n",
    "######################\n",
    "import math\n",
    "def sqrt(value):\n",
    "    return math.sqrt(value)\n",
    "sqrt(\"sixteen\")"
   ]
  },
  {
   "cell_type": "code",
   "execution_count": 80,
   "metadata": {},
   "outputs": [
    {
     "name": "stdout",
     "output_type": "stream",
     "text": [
      "8\n",
      "fourfour\n"
     ]
    },
    {
     "name": "stderr",
     "output_type": "stream",
     "text": [
      "/var/folders/4d/qcr6x8d903300s297sgmbwmh0000gp/T/ipykernel_17271/2712624428.py:10: UserWarning: Input was a string. Result may be unexpected.\n",
      "  warnings.warn(\"Input was a string. Result may be unexpected.\")\n"
     ]
    }
   ],
   "source": [
    "#################\n",
    "# Raise a warning\n",
    "#################\n",
    "import warnings\n",
    "warnings.simplefilter(action=\"default\") # Required for VS Code, idk why.\n",
    "\n",
    "# Raise a warning\n",
    "def double(value):\n",
    "    if isinstance(value, str):\n",
    "        warnings.warn(\"Input was a string. Result may be unexpected.\") \n",
    "    return value+value\n",
    "print(double(4))\n",
    "print(double(\"four\"))"
   ]
  },
  {
   "cell_type": "code",
   "execution_count": 81,
   "metadata": {},
   "outputs": [
    {
     "ename": "TypeError",
     "evalue": "This function requires string input.",
     "output_type": "error",
     "traceback": [
      "\u001b[0;31m---------------------------------------------------------------------------\u001b[0m",
      "\u001b[0;31mTypeError\u001b[0m                                 Traceback (most recent call last)",
      "\u001b[0;32m/var/folders/4d/qcr6x8d903300s297sgmbwmh0000gp/T/ipykernel_17271/1185458064.py\u001b[0m in \u001b[0;36m<module>\u001b[0;34m\u001b[0m\n\u001b[1;32m      7\u001b[0m         \u001b[0;32mraise\u001b[0m\u001b[0;34m(\u001b[0m\u001b[0mTypeError\u001b[0m\u001b[0;34m(\u001b[0m\u001b[0;34m\"This function requires string input.\"\u001b[0m\u001b[0;34m)\u001b[0m\u001b[0;34m)\u001b[0m\u001b[0;34m\u001b[0m\u001b[0;34m\u001b[0m\u001b[0m\n\u001b[1;32m      8\u001b[0m \u001b[0;34m\u001b[0m\u001b[0m\n\u001b[0;32m----> 9\u001b[0;31m \u001b[0monly_accepts_strings\u001b[0m\u001b[0;34m(\u001b[0m\u001b[0;36m5\u001b[0m\u001b[0;34m)\u001b[0m\u001b[0;34m\u001b[0m\u001b[0;34m\u001b[0m\u001b[0m\n\u001b[0m",
      "\u001b[0;32m/var/folders/4d/qcr6x8d903300s297sgmbwmh0000gp/T/ipykernel_17271/1185458064.py\u001b[0m in \u001b[0;36monly_accepts_strings\u001b[0;34m(value)\u001b[0m\n\u001b[1;32m      5\u001b[0m \u001b[0;32mdef\u001b[0m \u001b[0monly_accepts_strings\u001b[0m\u001b[0;34m(\u001b[0m\u001b[0mvalue\u001b[0m\u001b[0;34m)\u001b[0m\u001b[0;34m:\u001b[0m\u001b[0;34m\u001b[0m\u001b[0;34m\u001b[0m\u001b[0m\n\u001b[1;32m      6\u001b[0m     \u001b[0;32mif\u001b[0m \u001b[0;32mnot\u001b[0m \u001b[0misinstance\u001b[0m\u001b[0;34m(\u001b[0m\u001b[0mvalue\u001b[0m\u001b[0;34m,\u001b[0m\u001b[0mstr\u001b[0m\u001b[0;34m)\u001b[0m\u001b[0;34m:\u001b[0m\u001b[0;34m\u001b[0m\u001b[0;34m\u001b[0m\u001b[0m\n\u001b[0;32m----> 7\u001b[0;31m         \u001b[0;32mraise\u001b[0m\u001b[0;34m(\u001b[0m\u001b[0mTypeError\u001b[0m\u001b[0;34m(\u001b[0m\u001b[0;34m\"This function requires string input.\"\u001b[0m\u001b[0;34m)\u001b[0m\u001b[0;34m)\u001b[0m\u001b[0;34m\u001b[0m\u001b[0;34m\u001b[0m\u001b[0m\n\u001b[0m\u001b[1;32m      8\u001b[0m \u001b[0;34m\u001b[0m\u001b[0m\n\u001b[1;32m      9\u001b[0m \u001b[0monly_accepts_strings\u001b[0m\u001b[0;34m(\u001b[0m\u001b[0;36m5\u001b[0m\u001b[0;34m)\u001b[0m\u001b[0;34m\u001b[0m\u001b[0;34m\u001b[0m\u001b[0m\n",
      "\u001b[0;31mTypeError\u001b[0m: This function requires string input."
     ]
    }
   ],
   "source": [
    "#############################\n",
    "# Raising warnings and errors \n",
    "#############################\n",
    "# Raise an error\n",
    "def only_accepts_strings(value):\n",
    "    if not isinstance(value,str):\n",
    "        raise(TypeError(\"This function requires string input.\"))\n",
    "\n",
    "only_accepts_strings(5)"
   ]
  },
  {
   "cell_type": "code",
   "execution_count": null,
   "metadata": {},
   "outputs": [],
   "source": []
  }
 ],
 "metadata": {
  "kernelspec": {
   "display_name": "Python 3 (ipykernel)",
   "language": "python",
   "name": "python3"
  },
  "language_info": {
   "codemirror_mode": {
    "name": "ipython",
    "version": 3
   },
   "file_extension": ".py",
   "mimetype": "text/x-python",
   "name": "python",
   "nbconvert_exporter": "python",
   "pygments_lexer": "ipython3",
   "version": "3.8.5"
  }
 },
 "nbformat": 4,
 "nbformat_minor": 4
}
