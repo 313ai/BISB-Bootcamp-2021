{
 "cells": [
  {
   "cell_type": "markdown",
   "metadata": {},
   "source": [
    "# Module 3a. Python Programming 101\n",
    "\n",
    "**Author:** Lauryn Bruce lbruce@ucsd.edu\n",
    "\n",
    "This notebook contains some additional introductory exercises to basic concepts of programming, specifically for the Python programming language. \n",
    "\n",
    "Topics included below are:\n",
    "- Data Types/Objects\n",
    "- Data Structures\n",
    "- Comparison Operators\n",
    "- Python Statements/Control Flow\n",
    "- Functions\n",
    "- User Defined Data Objects using Classes\n",
    "- Read/Write data to/from Files\n",
    "- Pandas data cleaning/manipulation\n",
    "- Pandas DateTime index\n",
    "- Testing & Debugging"
   ]
  },
  {
   "cell_type": "markdown",
   "metadata": {},
   "source": [
    "### Jupyter Commands\n",
    "Note** Windows command or Mac command if different\n",
    "- Run a cell: Shift + Enter\n",
    "- Run a cell and create a new one below: Alt + Enter or option ⌥ + Enter\n",
    "- Run selected cells: Ctrl + Enter or Command ⌘ + Enter\n",
    "- Save: Ctrl + s or Command ⌘ + s\n",
    "\n",
    "- In command mode (Esc to activate)\n",
    "    - Create a new cell above: a\n",
    "    - Create a new cell below: b\n",
    "    - Cut cell: x\n",
    "    - Copy cell: c\n",
    "    - Paste cell: v\n",
    "\n",
    "- Functions\n",
    "    - show the required inputs for a function use: Shift + tab\n",
    "    - example: my_function(  --> Shift  +tab\n",
    "\n",
    "\n",
    "Resources:<br>\n",
    "- https://www.udemy.com/course/complete-python-bootcamp\n",
    "- https://towardsdatascience.com/jypyter-notebook-shortcuts-bf0101a98330"
   ]
  },
  {
   "cell_type": "markdown",
   "metadata": {},
   "source": [
    "## Basic Python Data Types/Objects"
   ]
  },
  {
   "cell_type": "markdown",
   "metadata": {},
   "source": [
    "#### Integers: Whole Numbers"
   ]
  },
  {
   "cell_type": "code",
   "execution_count": null,
   "metadata": {},
   "outputs": [],
   "source": [
    "x=3\n",
    "y=9\n",
    "print(x)\n",
    "print(y)"
   ]
  },
  {
   "cell_type": "markdown",
   "metadata": {},
   "source": [
    "#### Floats: Numbers with a Decimal point"
   ]
  },
  {
   "cell_type": "code",
   "execution_count": null,
   "metadata": {},
   "outputs": [],
   "source": [
    "x=3.3\n",
    "y=9.1"
   ]
  },
  {
   "cell_type": "markdown",
   "metadata": {},
   "source": [
    "#### Strings: Ordered sequence of Characters"
   ]
  },
  {
   "cell_type": "code",
   "execution_count": null,
   "metadata": {},
   "outputs": [],
   "source": [
    "z = 'Hello'\n",
    "zz = 'you'\n",
    "print(z + ' ' + zz)"
   ]
  },
  {
   "cell_type": "markdown",
   "metadata": {},
   "source": [
    "## Basic Data Structures"
   ]
  },
  {
   "cell_type": "markdown",
   "metadata": {},
   "source": [
    "#### Lists: mutable ordered sequence of objects"
   ]
  },
  {
   "cell_type": "code",
   "execution_count": null,
   "metadata": {},
   "outputs": [],
   "source": [
    "my_list=[1,2,\"three\",[4.0, 5]] # can contain a mixture of data types\n",
    "print(my_list[0]) # access an item using the index."
   ]
  },
  {
   "cell_type": "code",
   "execution_count": null,
   "metadata": {},
   "outputs": [],
   "source": [
    "# Slicing: can use my_list[start:stop] syntax to access a sub-list (0-bases)\n",
    "my_sub_list = my_list[:2]\n",
    "print(my_sub_list)\n",
    "my_sub_list_2 = my_list[2][1]\n",
    "print(my_sub_list_2)"
   ]
  },
  {
   "cell_type": "markdown",
   "metadata": {},
   "source": [
    "#### Dictionaries: unordered key:value pairs"
   ]
  },
  {
   "cell_type": "code",
   "execution_count": null,
   "metadata": {},
   "outputs": [],
   "source": [
    "# Create empty dictionary\n",
    "my_dict = {}"
   ]
  },
  {
   "cell_type": "code",
   "execution_count": null,
   "metadata": {},
   "outputs": [],
   "source": [
    "# Add key value pairs\n",
    "my_dict['key1'] = 1\n",
    "my_dict['key2'] = 2\n",
    "my_dict['key3'] = 3\n",
    "print(my_dict)"
   ]
  },
  {
   "cell_type": "code",
   "execution_count": null,
   "metadata": {},
   "outputs": [],
   "source": [
    "# Create populated dictionary\n",
    "my_new_dict = {'key4': 4, 'key5': 5}\n",
    "# Change a value within a dictionary\n",
    "my_new_dict['key4'] = 6\n",
    "print(my_new_dict)\n",
    "\n",
    "# Get all keys\n",
    "print(my_dict.keys())\n",
    "# Get all values\n",
    "print(my_dict.values())"
   ]
  },
  {
   "cell_type": "markdown",
   "metadata": {},
   "source": [
    "#### Boolean: logical value indicating True or False"
   ]
  },
  {
   "cell_type": "code",
   "execution_count": null,
   "metadata": {},
   "outputs": [],
   "source": [
    "my_bool = True\n",
    "my_bool == False"
   ]
  },
  {
   "cell_type": "markdown",
   "metadata": {},
   "source": [
    "#### Sets: unordered collection of unique objects"
   ]
  },
  {
   "cell_type": "code",
   "execution_count": null,
   "metadata": {},
   "outputs": [],
   "source": [
    "my_set = ('a', 'b', 'c')\n",
    "\n",
    "my_list = ('a', 'b', 'c', 'd', 'd', 'b')\n",
    "print(set(my_list))"
   ]
  },
  {
   "cell_type": "markdown",
   "metadata": {},
   "source": [
    "#### Tuples: ordered immutable sequence of objects"
   ]
  },
  {
   "cell_type": "code",
   "execution_count": null,
   "metadata": {},
   "outputs": [],
   "source": [
    "my_tup = (10, \"hello\", 200.3)"
   ]
  },
  {
   "cell_type": "markdown",
   "metadata": {},
   "source": [
    "## Comparison Operators"
   ]
  },
  {
   "cell_type": "markdown",
   "metadata": {},
   "source": [
    "Operator & Description\n",
    "<br>== if the value of two operands are equal, return True\n",
    "<br>!= if the value of the two operands are not equal, return true\n",
    "<br>\\> if the value of the left operand is greater than the value of the right, return True\n",
    "<br>\\< if the value of the left operand is less than the value of the right, return True\n",
    "<br>\\>= if the value of the left operand is greater than OR equal to the value of the right, return True\n",
    "<br>\\<= if the value of the left operand is less than OR equal to the value of the right, return True"
   ]
  },
  {
   "cell_type": "code",
   "execution_count": null,
   "metadata": {},
   "outputs": [],
   "source": [
    "x=3\n",
    "y=3.0\n",
    "x == y"
   ]
  },
  {
   "cell_type": "code",
   "execution_count": null,
   "metadata": {},
   "outputs": [],
   "source": [
    "x > y"
   ]
  },
  {
   "cell_type": "code",
   "execution_count": null,
   "metadata": {},
   "outputs": [],
   "source": [
    "x = 'Hello'\n",
    "y = 'Hi'\n",
    "x != y"
   ]
  },
  {
   "cell_type": "markdown",
   "metadata": {},
   "source": [
    "## Python Statments: Control flow"
   ]
  },
  {
   "cell_type": "markdown",
   "metadata": {},
   "source": [
    "#### if, elif, else"
   ]
  },
  {
   "cell_type": "code",
   "execution_count": null,
   "metadata": {},
   "outputs": [],
   "source": [
    "x = 4\n",
    "\n",
    "if x == 5:\n",
    "    print('x equals 5')\n",
    "elif x < 5:\n",
    "    print('x is less than 5')\n",
    "else:\n",
    "    print('x is greater than 5')"
   ]
  },
  {
   "cell_type": "markdown",
   "metadata": {},
   "source": [
    "#### for loops"
   ]
  },
  {
   "cell_type": "code",
   "execution_count": null,
   "metadata": {},
   "outputs": [],
   "source": [
    "# Loop 10 times (0 to 9 inclusive)\n",
    "for x in range(10):\n",
    "    print('hell' + (x * 'o'))"
   ]
  },
  {
   "cell_type": "code",
   "execution_count": null,
   "metadata": {},
   "outputs": [],
   "source": [
    "my_list = [1,2,3,4,5,6,7,8]\n",
    "for i,x in enumerate(my_list):\n",
    "    print(i,x)\n",
    "    # check if numer is even\n",
    "    if x%2 == 0:\n",
    "        print('even ' + str(x))\n",
    "    elif i != 0:\n",
    "        print(i, x, x + my_list[i-1])\n",
    "    else:\n",
    "        print(x)"
   ]
  },
  {
   "cell_type": "code",
   "execution_count": null,
   "metadata": {},
   "outputs": [],
   "source": [
    "# iterate through a dictionary\n",
    "d = {'k1': 1, 'k2': 2, 'k3': 3}\n",
    "for item in d:\n",
    "    print(item)\n",
    "\n",
    "for item in d.items():\n",
    "    print(item)\n",
    "    \n",
    "for key,value in d.items():\n",
    "    print(key)\n",
    "    print(value)"
   ]
  },
  {
   "cell_type": "code",
   "execution_count": null,
   "metadata": {},
   "outputs": [],
   "source": [
    "# More flow control\n",
    "x = [1,2,3]\n",
    "\n",
    "for item in x:\n",
    "    # Do nothing at all\n",
    "    pass\n",
    "\n",
    "my_string = 'Sam'\n",
    "for letter in my_string:\n",
    "    if letter == 'a':\n",
    "        # Goes to the top of the closest enclosing loop\n",
    "        continue\n",
    "    print(letter)\n",
    "    \n",
    "for letter in my_string:\n",
    "    if letter == 'a':\n",
    "        #  breaks out of the closest enclosing loop\n",
    "        break\n",
    "    print(letter)"
   ]
  },
  {
   "cell_type": "markdown",
   "metadata": {},
   "source": [
    "#### while loop"
   ]
  },
  {
   "cell_type": "code",
   "execution_count": null,
   "metadata": {},
   "outputs": [],
   "source": [
    "# Be careful with while loop, infinite loops may break your kernal or worse you computer!\n",
    "\n",
    "x = 10\n",
    "while x != 1:\n",
    "    print('x = ' + str(x))\n",
    "    x -= 1\n",
    "    \n",
    "    if x < 5:\n",
    "        print('x is less than 5')"
   ]
  },
  {
   "cell_type": "code",
   "execution_count": null,
   "metadata": {},
   "outputs": [],
   "source": [
    "x = 0\n",
    "\n",
    "while x < 5:\n",
    "    if x == 2:\n",
    "        break \n",
    "        \n",
    "    print(x)\n",
    "    x += 1"
   ]
  },
  {
   "cell_type": "markdown",
   "metadata": {},
   "source": [
    "#### Other useful operators"
   ]
  },
  {
   "cell_type": "code",
   "execution_count": null,
   "metadata": {},
   "outputs": [],
   "source": [
    "# Range operator\n",
    "# Print numbers from 0 to 9 (not inclusive)\n",
    "for num in range(10):\n",
    "    print(num)\n",
    "\n",
    "# Print numbers from 3 to 9 (not inclusive)  \n",
    "for num in range(3,10):\n",
    "    print(num)\n",
    "\n",
    "# Print every other number from 3 to 9 (not inclusive)  \n",
    "for num in range(3,10,2):\n",
    "    print(num)"
   ]
  },
  {
   "cell_type": "code",
   "execution_count": null,
   "metadata": {},
   "outputs": [],
   "source": [
    "# Enumerate Function\n",
    "for index_count, letter in enumerate('abcde'):\n",
    "    print('At index {} the letter is {}'.format(index_count, letter))"
   ]
  },
  {
   "cell_type": "code",
   "execution_count": null,
   "metadata": {},
   "outputs": [],
   "source": [
    "# Zip function\n",
    "my_list_1 = [1,2,3]\n",
    "my_list_2 = ['a', 'b', 'c']\n",
    "my_list_3 = [100, 200]\n",
    "my_zipped_list = list(zip(my_list_1, my_list_2, my_list_3))\n",
    "print(my_zipped_list)"
   ]
  },
  {
   "cell_type": "code",
   "execution_count": null,
   "metadata": {},
   "outputs": [],
   "source": [
    "# in function to check if object is in a list, dictionary, string, etc\n",
    "'x' in [1,2,3]\n",
    "'x' in ['x', 'y', 'z']\n",
    "d = {'mykey':345}\n",
    "'mykey' in d\n",
    "345 in d.keys()"
   ]
  },
  {
   "cell_type": "code",
   "execution_count": null,
   "metadata": {},
   "outputs": [],
   "source": [
    "# Min/Max\n",
    "min([1,2,3])\n",
    "min([4,5,6])"
   ]
  },
  {
   "cell_type": "code",
   "execution_count": null,
   "metadata": {},
   "outputs": [],
   "source": [
    "# Random built in functions\n",
    "# Need to import from a library\n",
    "\n",
    "from random import shuffle\n",
    "# shuffle does not return anything, only shuffles in place\n",
    "my_list = [3,4,5,6,7,8,9]\n",
    "print(shuffle(my_list))\n",
    "\n",
    "from random import randint\n",
    "# randomly pull integer in range\n",
    "my_random_number = randint(50,100)\n",
    "print(my_random_number)"
   ]
  },
  {
   "cell_type": "code",
   "execution_count": null,
   "metadata": {},
   "outputs": [],
   "source": [
    "# Accept user input\n",
    "my_input_number = input('Enter a number here: ')"
   ]
  },
  {
   "cell_type": "code",
   "execution_count": null,
   "metadata": {},
   "outputs": [],
   "source": [
    "# Be careful, always turns input into a string!\n",
    "print(my_input_number, type(my_input_number))"
   ]
  },
  {
   "cell_type": "markdown",
   "metadata": {},
   "source": [
    "## Functions"
   ]
  },
  {
   "cell_type": "code",
   "execution_count": null,
   "metadata": {},
   "outputs": [],
   "source": [
    "# Basic Function\n",
    "def sum_numbers(num1, num2):\n",
    "    return num1+num2\n",
    "\n",
    "sum_numbers(19,1)"
   ]
  },
  {
   "cell_type": "code",
   "execution_count": null,
   "metadata": {},
   "outputs": [],
   "source": [
    "def check_even_list(num_list):\n",
    "    \"\"\"\n",
    "    Doc String: Check to see if any number in a list is even\n",
    "    Input: list of numbers\n",
    "    Return: If any number is even, return True, otherwise False\n",
    "    \"\"\"\n",
    "    \n",
    "    for num in num_list:\n",
    "        if num % 2 == 0:\n",
    "            return True\n",
    "        else:\n",
    "            pass\n",
    "        \n",
    "        return False\n",
    "        \n",
    "check_even_list([1,4,7])"
   ]
  },
  {
   "cell_type": "code",
   "execution_count": null,
   "metadata": {},
   "outputs": [],
   "source": [
    "# Special functions\n",
    "\n",
    "def square(num):\n",
    "    return num**2\n",
    "\n",
    "def check_even(num):\n",
    "    return num % 2 == 0\n",
    "\n",
    "my_nums = [1, 2, 3, 4, 5, 6]\n",
    "\n",
    "## Map: executes a function on a list of arguments\n",
    "squared_list = list(map(square, my_nums))\n",
    "print(squared_list)\n",
    "\n",
    "## Filter: filter based on a boolean function's return\n",
    "even_nums = list(filter(check_even, my_nums))\n",
    "print(even_nums)\n",
    "\n",
    "## Lambda / Anonymous function: shorted version of a simple function,\n",
    "## generally one time use\n",
    "display(list(map(lambda num: num**2, my_nums)))\n",
    "\n",
    "## Another lambda function strings\n",
    "## reverse names\n",
    "name_list = ['Andy', 'Wall-e', 'Sully']\n",
    "list(map(lambda x:x[::-1], name_list))"
   ]
  },
  {
   "cell_type": "markdown",
   "metadata": {},
   "source": [
    "## User Defined Objects via Classes\n",
    "### Glimpse of Object Oriented Programing"
   ]
  },
  {
   "cell_type": "code",
   "execution_count": null,
   "metadata": {},
   "outputs": [],
   "source": [
    "# classes follow camel casing (new words are capitalized)\n",
    "class Patient():\n",
    "    \n",
    "    # Class Object Attribute: same for any instance of a class\n",
    "    genus = 'Homo'\n",
    "    \n",
    "    # connect key word 'self' to an instance of the class\n",
    "    # define other user defined attributes\n",
    "    def __init__(self, age, gender, birthdate, note=None):\n",
    "        self.age = age\n",
    "        self.gender = gender\n",
    "        self.birthdate = birthdate\n",
    "        \n",
    "    def add_note(self, string):\n",
    "        self.note = string\n",
    "    \n",
    "    # Methods: operations/actions that use the self attributes\n",
    "    \n",
    "    # The __repr__ function defines behavior when \"print\" is called on this object\n",
    "    def __repr__(self):\n",
    "        return ':'.join([str(self.age), self.gender, self.birthdate]) + '\\n' + self.note\n",
    "    \n",
    "    def legal(self):\n",
    "        if self.age >= 21:\n",
    "            return True\n",
    "        else:\n",
    "            return False"
   ]
  },
  {
   "cell_type": "code",
   "execution_count": null,
   "metadata": {},
   "outputs": [],
   "source": [
    "my_patient = Patient(20, 'non-binary', '2000-09-16')\n",
    "my_patient.add_note('This patient is a student')\n",
    "\n",
    "print(my_patient.genus)\n",
    "print(my_patient)\n",
    "print(my_patient.legal())"
   ]
  },
  {
   "cell_type": "markdown",
   "metadata": {},
   "source": [
    "### Editing primitives vs objects"
   ]
  },
  {
   "cell_type": "code",
   "execution_count": null,
   "metadata": {},
   "outputs": [],
   "source": [
    "# Primitive points\n",
    "x1,y1 = 3,4 \t# create a point\n",
    "x2,y2 = x1,y1 \t# create another point at the same place\n",
    "x1 = 13 \t\t# move point 1\n",
    "print(x1,y1) \t# 13 4\n",
    "print(x2,y2) \t# 3 4\n",
    "\n",
    "# Object points\n",
    "class Point:\n",
    "    def __init__(self,x,y):\n",
    "        self.x=x\n",
    "        self.y=y\n",
    "    def __repr__(self):\n",
    "        return '('+str(self.x)+','+str(self.y)+')'\n",
    "    \n",
    "pt1 = Point(3,4)# create a point\n",
    "pt2 = pt1 \t\t# create(?) another point at the same place\n",
    "pt2.x = 13 \t\t# move pt2\n",
    "print(pt1) \t\t# (13,4)\n",
    "print(pt2) \t\t# (13,4)"
   ]
  },
  {
   "cell_type": "markdown",
   "metadata": {},
   "source": [
    "## Math Functions\n",
    "For full list see: https://docs.python.org/3/library/math.html"
   ]
  },
  {
   "cell_type": "code",
   "execution_count": null,
   "metadata": {},
   "outputs": [],
   "source": [
    "import math"
   ]
  },
  {
   "cell_type": "code",
   "execution_count": null,
   "metadata": {},
   "outputs": [],
   "source": [
    "x = 3.71\n",
    "y = 4.74\n",
    "\n",
    "# Round down\n",
    "display(math.floor(x))\n",
    "\n",
    "# Round up\n",
    "display(math.ceil(x))\n",
    "\n",
    "# Remainder x/y\n",
    "display(round(math.remainder(x,y), 3))\n",
    "\n",
    "# Exponential: return e raised to the power of x\n",
    "display(round(math.exp(x),3))\n",
    "\n",
    "# Logrithm (default log base e, can provide base which calculates as log(x)/ log(base))\n",
    "print('Natural Log: ', round(math.log(x),3))\n",
    "print('Log base 10: ', round(math.log(x, 10),3))\n",
    "\n",
    "# Constants\n",
    "display(math.pi, math.e, math.nan, math.inf)"
   ]
  },
  {
   "cell_type": "markdown",
   "metadata": {},
   "source": [
    "### Reading data from input file and Writing to output file"
   ]
  },
  {
   "cell_type": "code",
   "execution_count": null,
   "metadata": {},
   "outputs": [],
   "source": [
    "%%bash\n",
    "# Determine where you are \n",
    "pwd"
   ]
  },
  {
   "cell_type": "code",
   "execution_count": null,
   "metadata": {},
   "outputs": [],
   "source": [
    "def total_function(numbers_list):\n",
    "    return(sum(numbers_list))"
   ]
  },
  {
   "cell_type": "code",
   "execution_count": null,
   "metadata": {},
   "outputs": [],
   "source": [
    "### Read one line at a time\n",
    "# You know there are only two numbers\n",
    "\n",
    "import os\n",
    "\n",
    "# Read in a file with two lines and output \n",
    "input_file = 'inputs/known_length_data_input.txt'\n",
    "\n",
    "with open(input_file,'r') as f:\n",
    "\n",
    "    first = f.readline().rstrip()\n",
    "\n",
    "    second = f.readline().rstrip()\n",
    "    \n",
    "    numbers = [int(first), int(second)]\n",
    "\n",
    "    # Create output folder if it does not exist\n",
    "    output_folder = 'outputs/'\n",
    "    if not os.path.exists(output_folder):\n",
    "        os.makedirs(output_folder)\n",
    "    \n",
    "    # Create output file\n",
    "    output_file = open(os.path.join(output_folder,\"sum_known.txt\"),'w')\n",
    "    \n",
    "    # Call function and write to a file\n",
    "    output_file.write(str(total_function(numbers)))\n",
    "    output_file.close()"
   ]
  },
  {
   "cell_type": "code",
   "execution_count": null,
   "metadata": {},
   "outputs": [],
   "source": [
    "### Read all lines and store\n",
    "# You do not know how many numbers you have\n",
    "\n",
    "import os\n",
    "\n",
    "# Read in a file with two lines and output \n",
    "input_file = 'inputs/unknown_length_data_input.txt'\n",
    "\n",
    "with open(input_file,'r') as f:\n",
    "    \n",
    "    numbers = []\n",
    "    for lines in f:\n",
    "        numbers.append(int(lines.rstrip()))\n",
    "\n",
    "    # Create output folder if it does not exist\n",
    "    output_folder = 'outputs/'\n",
    "    if not os.path.exists(output_folder):\n",
    "        os.makedirs(output_folder)\n",
    "    \n",
    "    # Create output file\n",
    "    output_file = open(os.path.join(output_folder,\"sum_unknown.txt\"),'w')\n",
    "    \n",
    "    # Call function and write to a file\n",
    "    output_file.write(str(total_function(numbers)))\n",
    "    output_file.close()"
   ]
  },
  {
   "cell_type": "markdown",
   "metadata": {},
   "source": [
    "# Pandas: Software for Data Manipulation and analysis\n",
    "\n",
    "https://www.datacamp.com/community/tutorials/pandas-tutorial-dataframe-python"
   ]
  },
  {
   "cell_type": "code",
   "execution_count": null,
   "metadata": {},
   "outputs": [],
   "source": [
    "# Import pandas and numpy libraries\n",
    "import pandas as pd\n",
    "import numpy as np\n",
    "\n",
    "import warnings\n",
    "warnings.filterwarnings('ignore')"
   ]
  },
  {
   "cell_type": "markdown",
   "metadata": {},
   "source": [
    "### Create a pandas dataframe from a dictionary"
   ]
  },
  {
   "cell_type": "code",
   "execution_count": null,
   "metadata": {},
   "outputs": [],
   "source": [
    "my_flower_dict = {'flowers': ['rose', 'daisy', 'sunflower'],\n",
    "                  'colors': ['red', 'white', 'yellow'],\n",
    "                  'blooming_season': ['spring', 'spring', 'summer']}\n",
    "flower_df = pd.DataFrame(my_flower_dict)\n",
    "\n",
    "flower_df"
   ]
  },
  {
   "cell_type": "code",
   "execution_count": null,
   "metadata": {},
   "outputs": [],
   "source": [
    "# Pandas Series: like a column in a table, one-dimensional array\n",
    "flower_colors = flower_df['colors']\n",
    "display(type(flower_colors))\n",
    "display(flower_colors)\n",
    "\n",
    "# Convert back to dataframe\n",
    "flower_colors_df = pd.Series(flower_colors).to_frame()\n",
    "display(type(flower_colors_df))\n",
    "flower_colors_df"
   ]
  },
  {
   "cell_type": "code",
   "execution_count": null,
   "metadata": {},
   "outputs": [],
   "source": [
    "# Assign DataFrame index to flower type\n",
    "flower_df.set_index('flowers', inplace=True)\n",
    "flower_df"
   ]
  },
  {
   "cell_type": "code",
   "execution_count": null,
   "metadata": {},
   "outputs": [],
   "source": [
    "# Get list of columns\n",
    "columns = flower_df.columns.to_list()\n",
    "print(columns)"
   ]
  },
  {
   "cell_type": "code",
   "execution_count": null,
   "metadata": {},
   "outputs": [],
   "source": [
    "# Get Unique list of values within a column\n",
    "print(flower_df['blooming_season'].unique())\n",
    "\n",
    "# Get Counts of the set of values within a column\n",
    "print(flower_df['blooming_season'].value_counts())"
   ]
  },
  {
   "cell_type": "markdown",
   "metadata": {},
   "source": [
    "### Pandas Read in tabular data with header\n",
    "\n",
    "#### Source: https://www.kaggle.com/srikarkashyap/analyzing-healthcare-data-tutorial"
   ]
  },
  {
   "cell_type": "code",
   "execution_count": null,
   "metadata": {},
   "outputs": [],
   "source": [
    "df = pd.read_csv('inputs/pandas_healthcare_input_data.csv', index_col=0)\n",
    "df.head(2)"
   ]
  },
  {
   "cell_type": "code",
   "execution_count": null,
   "metadata": {},
   "outputs": [],
   "source": [
    "# Print Summary Statistics of the numeric columns\n",
    "df.describe()"
   ]
  },
  {
   "cell_type": "code",
   "execution_count": null,
   "metadata": {},
   "outputs": [],
   "source": [
    "# Print data type info by column\n",
    "df.info()"
   ]
  },
  {
   "cell_type": "code",
   "execution_count": null,
   "metadata": {},
   "outputs": [],
   "source": [
    "# Get list of columns\n",
    "df_columns = df.columns.to_list()\n",
    "print(df_columns)"
   ]
  },
  {
   "cell_type": "code",
   "execution_count": null,
   "metadata": {},
   "outputs": [],
   "source": [
    "# Display counts of each value in the sex column\n",
    "df['SEX'].value_counts()\n",
    "# Do you see any issues with this data?"
   ]
  },
  {
   "cell_type": "code",
   "execution_count": null,
   "metadata": {},
   "outputs": [],
   "source": [
    "# Have both 'Male' and 'MALE' listed, can fix that and rename Male(Child) and Female(Child) as Girl and Boy\n",
    "mappings = {'MALE':'Male', 'FEMALE': 'Female', 'Male(Child)': 'Boy', 'Female(Child)' :'Girl'}\n",
    "df['SEX'] = df['SEX'].replace(mappings)\n",
    "df['SEX'].value_counts()"
   ]
  },
  {
   "cell_type": "code",
   "execution_count": null,
   "metadata": {},
   "outputs": [],
   "source": [
    "# Plot bar graph of counts\n",
    "df['SEX'].value_counts().plot.bar()"
   ]
  },
  {
   "cell_type": "code",
   "execution_count": null,
   "metadata": {},
   "outputs": [],
   "source": [
    "# Find mean, median, and standard deviation of 'AGE'\n",
    "print('Mean: {}'.format(df['AGE'].mean().round(2)))\n",
    "print('Median: {}'.format(df['AGE'].median().round(2)))\n",
    "print('Standard Deviation: {}'.format(df['AGE'].std().round(2)))\n",
    "\n",
    "display(df['AGE'].plot.box())"
   ]
  },
  {
   "cell_type": "markdown",
   "metadata": {},
   "source": [
    "## DateTime Indexing\n",
    "Originally developed for financial data, the time series tools in the pandas libraries can also be used with health/biology time series data. A time series is any data set where the values are measured at diferent points. in time, either uniformally or irregularly sampled.\n",
    "\n",
    "#### Source: https://www.dataquest.io/blog/tutorial-time-series-analysis-with-pandas/\n",
    "#### Data: Open Power System Data (OPSD) from Germany"
   ]
  },
  {
   "cell_type": "code",
   "execution_count": null,
   "metadata": {},
   "outputs": [],
   "source": [
    "opsd_daily = pd.read_csv('inputs/pandas_datetime_input_data.csv')"
   ]
  },
  {
   "cell_type": "code",
   "execution_count": null,
   "metadata": {},
   "outputs": [],
   "source": [
    "# Get number of rows and columnsd\n",
    "display(opsd_daily.shape)\n",
    "\n",
    "# Get list of columns\n",
    "opsd_columns = opsd_daily.columns.to_list()\n",
    "print(opsd_columns)\n",
    "\n",
    "# View last 3 rows\n",
    "display(opsd_daily.tail(3))\n",
    "\n",
    "# Show data types\n",
    "display(opsd_daily.dtypes)"
   ]
  },
  {
   "cell_type": "code",
   "execution_count": null,
   "metadata": {},
   "outputs": [],
   "source": [
    "# Convert Date column to DateTime object\n",
    "opsd_daily['Date'] = pd.to_datetime(opsd_daily['Date'])\n",
    "\n",
    "# Show data types\n",
    "display(opsd_daily.dtypes)\n",
    "\n",
    "# Set index to Date\n",
    "opsd_daily = opsd_daily.set_index('Date')\n",
    "\n",
    "# View top 3 rows\n",
    "display(opsd_daily.head(3))"
   ]
  },
  {
   "cell_type": "code",
   "execution_count": null,
   "metadata": {},
   "outputs": [],
   "source": [
    "# Add Year, Month, and Weekday Name to the dataframe\n",
    "# Add columns with year, month, and weekday name\n",
    "opsd_daily['Year'] = opsd_daily.index.year\n",
    "opsd_daily['Month'] = opsd_daily.index.month\n",
    "opsd_daily['Weekday Name'] = opsd_daily.index.day_name()\n",
    "\n",
    "# Display a random sampling of 3 rows\n",
    "opsd_daily.sample(3, random_state=0)"
   ]
  },
  {
   "cell_type": "code",
   "execution_count": null,
   "metadata": {},
   "outputs": [],
   "source": [
    "# Select data for a single day\n",
    "display(opsd_daily.loc['2017-08-10'])\n",
    "\n",
    "# Select data for a range of days\n",
    "display(opsd_daily.loc['2017-08-10': '2017-08-12'])"
   ]
  },
  {
   "cell_type": "markdown",
   "metadata": {},
   "source": [
    "### Visualizing with Matplotlib"
   ]
  },
  {
   "cell_type": "code",
   "execution_count": null,
   "metadata": {},
   "outputs": [],
   "source": [
    "import matplotlib.pyplot as plt\n",
    "\n",
    "opsd_daily['Consumption'].plot(linewidth=0.5, figsize=(8,4))"
   ]
  },
  {
   "cell_type": "code",
   "execution_count": null,
   "metadata": {},
   "outputs": [],
   "source": [
    "cols_plot = ['Consumption', 'Solar', 'Wind']\n",
    "\n",
    "axes = opsd_daily[cols_plot].plot(marker='.', alpha=0.5, linestyle='None', figsize=(11, 9), subplots=True)\n",
    "\n",
    "for ax in axes:\n",
    "    ax.set_ylabel('Daily Totals (GWh)')"
   ]
  },
  {
   "cell_type": "code",
   "execution_count": null,
   "metadata": {},
   "outputs": [],
   "source": [
    "# Resample by looking at weekly median\n",
    "\n",
    "# Specify the data columns we want to include (i.e. exclude Year, Month, Weekday Name)\n",
    "data_columns = ['Consumption', 'Wind', 'Solar', 'Wind+Solar']\n",
    "\n",
    "# Resample to weekly frequency, aggregating with median\n",
    "opsd_weekly_mean = opsd_daily[data_columns].resample('W').median()\n",
    "display(opsd_weekly_mean.head(3))\n",
    "\n",
    "# Plot daily and weekly resampled time series together\n",
    "# Start and end of the date range to extract\n",
    "start, end = '2017-01', '2017-06'\n",
    "\n",
    "fig, ax = plt.subplots(figsize=(8,4))\n",
    "ax.plot(opsd_daily.loc[start:end, 'Solar'],\n",
    "marker='.', linestyle='-', linewidth=0.5, label='Daily')\n",
    "ax.plot(opsd_weekly_mean.loc[start:end, 'Solar'],\n",
    "marker='o', markersize=8, linestyle='-', label='Weekly Mean Resample')\n",
    "ax.set_ylabel('Solar Production (GWh)')\n",
    "ax.legend()\n",
    "plt.show()"
   ]
  },
  {
   "cell_type": "markdown",
   "metadata": {},
   "source": [
    "# Unit Testing\n",
    "Based on Rubik's code tutorial: https://rubikscode.net/2021/05/24/test-driven-development-tdd-with-python/\n",
    "\n",
    "A unit test is a piece of code that tests another piece of code.\n",
    "\n",
    "### Rick & Morty Example\n",
    "Many versions of the charcters Rick & Morty exist in different dimensions/universes. The Citadel is place where all the different Rick and Mortys have form a society. We want to be able to assign Ricks and Mortys a universe, and add residents to the Citadel.\n",
    "\n",
    "<br> First we need to create a Rick class and a Morty class. So we first write the test and then the class."
   ]
  },
  {
   "cell_type": "code",
   "execution_count": null,
   "metadata": {},
   "outputs": [],
   "source": [
    "import unittest\n",
    "\n",
    "class RickTests(unittest.TestCase):\n",
    "    def test_universe(self):\n",
    "        rick = Rick(111)\n",
    "        self.assertEqual(rick.universe, 111)"
   ]
  },
  {
   "cell_type": "code",
   "execution_count": null,
   "metadata": {},
   "outputs": [],
   "source": [
    "if __name__ == '__main__':\n",
    "    unittest.main(argv=['first-arg-is-ignored'], exit=False) ## arguments allow for running in jupyter notebook"
   ]
  },
  {
   "cell_type": "markdown",
   "metadata": {},
   "source": [
    "We didn't define the Rick class yet so it should error!"
   ]
  },
  {
   "cell_type": "code",
   "execution_count": null,
   "metadata": {},
   "outputs": [],
   "source": [
    "class Rick(object):\n",
    "    def __init__(self, universe):\n",
    "        self.universe = universe"
   ]
  },
  {
   "cell_type": "markdown",
   "metadata": {},
   "source": [
    "Now the unit test calls the function and should Pass!"
   ]
  },
  {
   "cell_type": "code",
   "execution_count": null,
   "metadata": {},
   "outputs": [],
   "source": [
    "if __name__ == '__main__':\n",
    "    unittest.main(argv=['first-arg-is-ignored'], exit=False) ## arguments allow for running in jupyter notebook"
   ]
  },
  {
   "cell_type": "markdown",
   "metadata": {},
   "source": [
    "Now create the Morty Test and Implemenataion Classes."
   ]
  },
  {
   "cell_type": "code",
   "execution_count": null,
   "metadata": {},
   "outputs": [],
   "source": [
    "class MortyTests(unittest.TestCase):\n",
    "    def test_universe(self):\n",
    "        morty = Morty(111)\n",
    "        self.assertEqual(morty.universe, 111)"
   ]
  },
  {
   "cell_type": "code",
   "execution_count": null,
   "metadata": {},
   "outputs": [],
   "source": [
    "class Morty(object):\n",
    "    def __init__(self, universe):\n",
    "        self.universe = universe"
   ]
  },
  {
   "cell_type": "code",
   "execution_count": null,
   "metadata": {},
   "outputs": [],
   "source": [
    "if __name__ == '__main__':\n",
    "    unittest.main(argv=['first-arg-is-ignored'], exit=False) ## arguments allow for running in jupyter notebook"
   ]
  },
  {
   "cell_type": "markdown",
   "metadata": {},
   "source": [
    "#### Cool both tests now pass!\n",
    "\n",
    "\n",
    "Now want to make two functions that test: \n",
    "1. Returning a list of all residents\n",
    "2. Adding of new residents"
   ]
  },
  {
   "cell_type": "code",
   "execution_count": null,
   "metadata": {},
   "outputs": [],
   "source": [
    "class CitadelTests(unittest.TestCase):\n",
    "    def test_get_all_residents(self):\n",
    "        citadel = Citadel()\n",
    "        residents = citadel.get_all_residents()\n",
    "        self.assertCountEqual(residents, [])\n",
    "        \n",
    "    def test_add_resident(self):\n",
    "        citadel = Citadel()\n",
    "        rick = Rick(111)\n",
    "        morty = Morty(111)\n",
    "        \n",
    "        citadel.add_resident(rick)\n",
    "        citadel.add_resident(morty)\n",
    "        residents = citadel.get_all_residents()\n",
    "        \n",
    "        self.assertEqual(residents[0], rick)\n",
    "        self.assertEqual(residents[1], morty)"
   ]
  },
  {
   "cell_type": "markdown",
   "metadata": {},
   "source": [
    "Next we need to implement Citadel class that contains functions to get a list of residents and add new ones."
   ]
  },
  {
   "cell_type": "code",
   "execution_count": null,
   "metadata": {},
   "outputs": [],
   "source": [
    "class Citadel(object):\n",
    "    def __init__(self):\n",
    "        self._residents = []\n",
    "        \n",
    "    def get_all_residents(self):\n",
    "        return self._residents\n",
    "    \n",
    "    def add_resident(self, resident):\n",
    "        self._residents.append(resident)"
   ]
  },
  {
   "cell_type": "markdown",
   "metadata": {},
   "source": [
    "Now we run the test to confirm that all functions return the expected values"
   ]
  },
  {
   "cell_type": "code",
   "execution_count": null,
   "metadata": {},
   "outputs": [],
   "source": [
    "if __name__ == '__main__':\n",
    "    unittest.main(argv=['first-arg-is-ignored'], exit=False) ## arguments allow for running in jupyter notebook"
   ]
  },
  {
   "cell_type": "markdown",
   "metadata": {},
   "source": [
    "#### Tutorial continues to show how you can then turn all Ricks with assigned Mortys into <font color=green size =8>pickles!</font>\n",
    "https://rubikscode.net/2021/05/24/test-driven-development-tdd-with-python/"
   ]
  },
  {
   "cell_type": "markdown",
   "metadata": {},
   "source": [
    "# Testing & Debugging\n",
    "#### Author: Owen Chapman"
   ]
  },
  {
   "cell_type": "code",
   "execution_count": null,
   "metadata": {},
   "outputs": [],
   "source": [
    "################\n",
    "# Code execution is sequential*\n",
    "################\n",
    "\n",
    "def some_function(string):\n",
    "    return string+string\n",
    "def some_other_function(string):\n",
    "    s=nested_function(string)\n",
    "    return s+s\n",
    "def nested_function(string):\n",
    "    return \"asdf\"+string\n",
    "\n",
    "foo = \"foo\"\n",
    "bar = \"bar\"\n",
    "foobar = foo+bar\n",
    "foobar = some_function(foobar)\n",
    "foo = some_other_function(bar)\n",
    "foo = 11\n",
    "\n",
    "# What are foo, bar and foobar now?\n",
    "# Solution:\n",
    "print(foo)\n",
    "print(bar)\n",
    "print(foobar)"
   ]
  },
  {
   "cell_type": "code",
   "execution_count": null,
   "metadata": {},
   "outputs": [],
   "source": [
    "######################\n",
    "# Bug-finding exercise\n",
    "######################\n",
    "# From rosalind.info http://rosalind.info/problems/ba3a/\n",
    "# kmer composition\n",
    "def kmer_composition(string,k):\n",
    "    '''\n",
    "    Given a string and an integer k, return all k-mers in the string.\n",
    "    Inputs:\n",
    "        string (str)\n",
    "        k (int): length of the k-mer\n",
    "        NOTE: THIS IS A BUGFIXING EXERCISE, THIS FUNCTION IS INCORRECT AS WRITTEN.\n",
    "    '''\n",
    "    for i in range(len(string)- k):\n",
    "        print(string[i:i+k])\n",
    "\n",
    "kmer_composition(\"CAATCCAAC\",5)"
   ]
  },
  {
   "cell_type": "code",
   "execution_count": null,
   "metadata": {},
   "outputs": [],
   "source": [
    "######################\n",
    "# Reading the stacktrace\n",
    "######################\n",
    "import math\n",
    "def sqrt(value):\n",
    "    return math.sqrt(value)\n",
    "sqrt(\"sixteen\")"
   ]
  },
  {
   "cell_type": "code",
   "execution_count": null,
   "metadata": {},
   "outputs": [],
   "source": [
    "#################\n",
    "# Raise a warning\n",
    "#################\n",
    "import warnings\n",
    "warnings.simplefilter(action=\"default\") # Required for VS Code, idk why.\n",
    "\n",
    "# Raise a warning\n",
    "def double(value):\n",
    "    if isinstance(value, str):\n",
    "        warnings.warn(\"Input was a string. Result may be unexpected.\") \n",
    "    return value+value\n",
    "print(double(4))\n",
    "print(double(\"four\"))"
   ]
  },
  {
   "cell_type": "code",
   "execution_count": null,
   "metadata": {},
   "outputs": [],
   "source": [
    "#############################\n",
    "# Raising warnings and errors \n",
    "#############################\n",
    "# Raise an error\n",
    "def only_accepts_strings(value):\n",
    "    if not isinstance(value,str):\n",
    "        raise(TypeError(\"This function requires string input.\"))\n",
    "\n",
    "only_accepts_strings(5)"
   ]
  }
 ],
 "metadata": {
  "kernelspec": {
   "display_name": "Python 3 (ipykernel)",
   "language": "python",
   "name": "python3"
  },
  "language_info": {
   "codemirror_mode": {
    "name": "ipython",
    "version": 3
   },
   "file_extension": ".py",
   "mimetype": "text/x-python",
   "name": "python",
   "nbconvert_exporter": "python",
   "pygments_lexer": "ipython3",
   "version": "3.8.5"
  }
 },
 "nbformat": 4,
 "nbformat_minor": 4
}
